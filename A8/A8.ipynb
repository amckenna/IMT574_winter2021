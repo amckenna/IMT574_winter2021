{
 "cells": [
  {
   "cell_type": "markdown",
   "metadata": {},
   "source": [
    "In this exercise you will use the Portuguese sea battles data (Links to an external site.) that contains outcomes of naval battles between Portuguese and Dutch/British ships between 1583 and 1663. The dataset has following features:\n",
    "\n",
    "- Battle: Name of the battle place\n",
    "- Year: Year of the battle\n",
    "- Portuguese ships: Number of Portuguese ships\n",
    "- Dutch ships: Number of Dutch ships\n",
    "- English ships: Number of ships from English side\n",
    "- Ratio of Portuguese to Dutch/British ships\n",
    "- Spanish Involvement: 1=Yes, 0=No\n",
    "- Portuguese outcome: -1=Defeat, 0=Draw, 1=Victory\n",
    "\n",
    "Use an SVM based model to predict the Portuguese outcome of the battle from the number of ships involved in all sides and Spanish involvement. Try solving the same problem using two other classifiers that you know. Report and compare their results with those from SVM.\n",
    "\n",
    "Submit a single PDF file with no more than two pages."
   ]
  },
  {
   "cell_type": "code",
   "execution_count": 1,
   "metadata": {},
   "outputs": [],
   "source": [
    "import os, glob\n",
    "\n",
    "import numpy as np\n",
    "import pandas as pd\n",
    "\n",
    "from sklearn.model_selection import train_test_split\n",
    "from sklearn.linear_model import LogisticRegression\n",
    "from sklearn.neighbors import KNeighborsClassifier\n",
    "from sklearn.tree import DecisionTreeClassifier\n",
    "from sklearn.ensemble import RandomForestClassifier\n",
    "from sklearn.svm import SVC\n",
    "from sklearn.metrics import classification_report,confusion_matrix, accuracy_score\n",
    "from sklearn import preprocessing\n",
    "from sklearn import metrics"
   ]
  },
  {
   "cell_type": "code",
   "execution_count": 2,
   "metadata": {},
   "outputs": [
    {
     "name": "stderr",
     "output_type": "stream",
     "text": [
      "/Users/choyademacbook/anaconda3/lib/python3.7/site-packages/ipykernel_launcher.py:4: ParserWarning: Falling back to the 'python' engine because the 'c' engine does not support regex separators (separators > 1 char and different from '\\s+' are interpreted as regex); you can avoid this warning by specifying engine='python'.\n",
      "  after removing the cwd from sys.path.\n"
     ]
    },
    {
     "data": {
      "text/html": [
       "<div>\n",
       "<style scoped>\n",
       "    .dataframe tbody tr th:only-of-type {\n",
       "        vertical-align: middle;\n",
       "    }\n",
       "\n",
       "    .dataframe tbody tr th {\n",
       "        vertical-align: top;\n",
       "    }\n",
       "\n",
       "    .dataframe thead th {\n",
       "        text-align: right;\n",
       "    }\n",
       "</style>\n",
       "<table border=\"1\" class=\"dataframe\">\n",
       "  <thead>\n",
       "    <tr style=\"text-align: right;\">\n",
       "      <th></th>\n",
       "      <th>Battle</th>\n",
       "      <th>Year</th>\n",
       "      <th>PortugeseShips</th>\n",
       "      <th>DutchShips</th>\n",
       "      <th>EnglishShips</th>\n",
       "      <th>Ratio</th>\n",
       "      <th>SpanishInvolvement</th>\n",
       "      <th>PortugeseOutcome</th>\n",
       "    </tr>\n",
       "  </thead>\n",
       "  <tbody>\n",
       "    <tr>\n",
       "      <th>0</th>\n",
       "      <td>Bantam</td>\n",
       "      <td>1601</td>\n",
       "      <td>6</td>\n",
       "      <td>3</td>\n",
       "      <td>0</td>\n",
       "      <td>2.000</td>\n",
       "      <td>0</td>\n",
       "      <td>0</td>\n",
       "    </tr>\n",
       "    <tr>\n",
       "      <th>1</th>\n",
       "      <td>Malacca Strait</td>\n",
       "      <td>1606</td>\n",
       "      <td>14</td>\n",
       "      <td>11</td>\n",
       "      <td>0</td>\n",
       "      <td>1.273</td>\n",
       "      <td>0</td>\n",
       "      <td>0</td>\n",
       "    </tr>\n",
       "    <tr>\n",
       "      <th>2</th>\n",
       "      <td>Ilha das Naus</td>\n",
       "      <td>1606</td>\n",
       "      <td>6</td>\n",
       "      <td>9</td>\n",
       "      <td>0</td>\n",
       "      <td>0.667</td>\n",
       "      <td>0</td>\n",
       "      <td>-1</td>\n",
       "    </tr>\n",
       "    <tr>\n",
       "      <th>3</th>\n",
       "      <td>Pulo Butum</td>\n",
       "      <td>1606</td>\n",
       "      <td>7</td>\n",
       "      <td>9</td>\n",
       "      <td>0</td>\n",
       "      <td>0.778</td>\n",
       "      <td>0</td>\n",
       "      <td>1</td>\n",
       "    </tr>\n",
       "    <tr>\n",
       "      <th>4</th>\n",
       "      <td>Surrat</td>\n",
       "      <td>1615</td>\n",
       "      <td>6</td>\n",
       "      <td>0</td>\n",
       "      <td>4</td>\n",
       "      <td>1.500</td>\n",
       "      <td>0</td>\n",
       "      <td>0</td>\n",
       "    </tr>\n",
       "  </tbody>\n",
       "</table>\n",
       "</div>"
      ],
      "text/plain": [
       "           Battle  Year  PortugeseShips  DutchShips  EnglishShips  Ratio  \\\n",
       "0          Bantam  1601               6           3             0  2.000   \n",
       "1  Malacca Strait  1606              14          11             0  1.273   \n",
       "2   Ilha das Naus  1606               6           9             0  0.667   \n",
       "3      Pulo Butum  1606               7           9             0  0.778   \n",
       "4          Surrat  1615               6           0             4  1.500   \n",
       "\n",
       "   SpanishInvolvement  PortugeseOutcome  \n",
       "0                   0                 0  \n",
       "1                   0                 0  \n",
       "2                   0                -1  \n",
       "3                   0                 1  \n",
       "4                   0                 0  "
      ]
     },
     "execution_count": 2,
     "metadata": {},
     "output_type": "execute_result"
    }
   ],
   "source": [
    "cols = ['Battle', 'Year', 'PortugeseShips', 'DutchShips', 'EnglishShips', 'Ratio', \n",
    "        'SpanishInvolvement', 'PortugeseOutcome']\n",
    "df = pd.read_csv(\"http://users.stat.ufl.edu/~winner/data/armada.dat\", sep=r'\\s{2,}', \n",
    "                 names = cols, header = None)\n",
    "df.head()"
   ]
  },
  {
   "cell_type": "code",
   "execution_count": 3,
   "metadata": {},
   "outputs": [],
   "source": [
    "#Creating X and y\n",
    "X = df.iloc[:, [2,3,4,6]]\n",
    "y = df[['PortugeseOutcome']]\n",
    "\n",
    "#Creating training and testing set\n",
    "X_train, X_test, y_train, y_test = train_test_split(X, y, test_size=0.3)"
   ]
  },
  {
   "cell_type": "markdown",
   "metadata": {},
   "source": [
    "#### SVC"
   ]
  },
  {
   "cell_type": "code",
   "execution_count": 4,
   "metadata": {},
   "outputs": [
    {
     "name": "stdout",
     "output_type": "stream",
     "text": [
      "Accuracy: 0.3333333333333333\n",
      "[[1 5 0]\n",
      " [0 2 0]\n",
      " [0 1 0]]\n",
      "              precision    recall  f1-score   support\n",
      "\n",
      "          -1       1.00      0.17      0.29         6\n",
      "           0       0.25      1.00      0.40         2\n",
      "           1       0.00      0.00      0.00         1\n",
      "\n",
      "    accuracy                           0.33         9\n",
      "   macro avg       0.42      0.39      0.23         9\n",
      "weighted avg       0.72      0.33      0.28         9\n",
      "\n"
     ]
    },
    {
     "name": "stderr",
     "output_type": "stream",
     "text": [
      "/Users/choyademacbook/anaconda3/lib/python3.7/site-packages/sklearn/metrics/_classification.py:1221: UndefinedMetricWarning: Precision and F-score are ill-defined and being set to 0.0 in labels with no predicted samples. Use `zero_division` parameter to control this behavior.\n",
      "  _warn_prf(average, modifier, msg_start, len(result))\n"
     ]
    }
   ],
   "source": [
    "#Building the SVC model and fitting the training data\n",
    "model = SVC(kernel='linear')\n",
    "model.fit(X_train,y_train.values.ravel())\n",
    "\n",
    "#Predicting on the test data\n",
    "predictions = model.predict(X_test)\n",
    "\n",
    "#Printing the accuracy\n",
    "print(\"Accuracy:\", accuracy_score(y_test, predictions))\n",
    "#Printing the confusion matrix\n",
    "print(confusion_matrix(y_test,predictions))\n",
    "#Printing the classification report\n",
    "print(classification_report(y_test,predictions))"
   ]
  },
  {
   "cell_type": "markdown",
   "metadata": {},
   "source": [
    "#### Logisitic Regression model"
   ]
  },
  {
   "cell_type": "code",
   "execution_count": 5,
   "metadata": {
    "scrolled": true
   },
   "outputs": [
    {
     "name": "stdout",
     "output_type": "stream",
     "text": [
      "0.6666666666666666\n",
      "[[4 2 0]\n",
      " [0 2 0]\n",
      " [0 1 0]]\n",
      "              precision    recall  f1-score   support\n",
      "\n",
      "          -1       1.00      0.67      0.80         6\n",
      "           0       0.40      1.00      0.57         2\n",
      "           1       0.00      0.00      0.00         1\n",
      "\n",
      "    accuracy                           0.67         9\n",
      "   macro avg       0.47      0.56      0.46         9\n",
      "weighted avg       0.76      0.67      0.66         9\n",
      "\n"
     ]
    },
    {
     "name": "stderr",
     "output_type": "stream",
     "text": [
      "/Users/choyademacbook/anaconda3/lib/python3.7/site-packages/sklearn/utils/validation.py:72: DataConversionWarning: A column-vector y was passed when a 1d array was expected. Please change the shape of y to (n_samples, ), for example using ravel().\n",
      "  return f(**kwargs)\n",
      "/Users/choyademacbook/anaconda3/lib/python3.7/site-packages/sklearn/metrics/_classification.py:1221: UndefinedMetricWarning: Precision and F-score are ill-defined and being set to 0.0 in labels with no predicted samples. Use `zero_division` parameter to control this behavior.\n",
      "  _warn_prf(average, modifier, msg_start, len(result))\n"
     ]
    }
   ],
   "source": [
    "#Creating Logisitic Regression model\n",
    "model = LogisticRegression()\n",
    "model.fit(X_train,y_train)\n",
    "\n",
    "#Predicting on Test set\n",
    "predictions = model.predict(X_test)\n",
    "\n",
    "print(accuracy_score(y_test,predictions))\n",
    "print(confusion_matrix(y_test,predictions))\n",
    "print(classification_report(y_test, predictions))"
   ]
  },
  {
   "cell_type": "markdown",
   "metadata": {},
   "source": [
    "#### KNN"
   ]
  },
  {
   "cell_type": "code",
   "execution_count": 6,
   "metadata": {},
   "outputs": [
    {
     "name": "stdout",
     "output_type": "stream",
     "text": [
      "k= 3\n",
      "0.3333333333333333\n",
      "[[2 4 0]\n",
      " [1 1 0]\n",
      " [1 0 0]]\n",
      "              precision    recall  f1-score   support\n",
      "\n",
      "          -1       0.50      0.33      0.40         6\n",
      "           0       0.20      0.50      0.29         2\n",
      "           1       0.00      0.00      0.00         1\n",
      "\n",
      "    accuracy                           0.33         9\n",
      "   macro avg       0.23      0.28      0.23         9\n",
      "weighted avg       0.38      0.33      0.33         9\n",
      "\n"
     ]
    },
    {
     "name": "stderr",
     "output_type": "stream",
     "text": [
      "/Users/choyademacbook/anaconda3/lib/python3.7/site-packages/ipykernel_launcher.py:5: DataConversionWarning: A column-vector y was passed when a 1d array was expected. Please change the shape of y to (n_samples, ), for example using ravel().\n",
      "  \"\"\"\n",
      "/Users/choyademacbook/anaconda3/lib/python3.7/site-packages/sklearn/metrics/_classification.py:1221: UndefinedMetricWarning: Precision and F-score are ill-defined and being set to 0.0 in labels with no predicted samples. Use `zero_division` parameter to control this behavior.\n",
      "  _warn_prf(average, modifier, msg_start, len(result))\n"
     ]
    }
   ],
   "source": [
    "#Creating KNN Classfier model\n",
    "knn = KNeighborsClassifier(n_neighbors=3)\n",
    "\n",
    "#Fitting the training data\n",
    "knn.fit(X_train,y_train)\n",
    "\n",
    "#Predicting on the test data\n",
    "predictions = knn.predict(X_test)\n",
    "\n",
    "print(\"k=\", 3)\n",
    "#Printing Confusion matrix and accuracy socres \n",
    "print(accuracy_score(y_test,predictions))\n",
    "print(confusion_matrix(y_test,predictions))\n",
    "print(classification_report(y_test, predictions))"
   ]
  },
  {
   "cell_type": "markdown",
   "metadata": {},
   "source": [
    "#### decision tree"
   ]
  },
  {
   "cell_type": "code",
   "execution_count": 7,
   "metadata": {},
   "outputs": [
    {
     "name": "stdout",
     "output_type": "stream",
     "text": [
      "0.2222222222222222\n",
      "[[2 3 1]\n",
      " [1 0 1]\n",
      " [0 1 0]]\n"
     ]
    }
   ],
   "source": [
    "# Creating the DTC and fitting the model\n",
    "dtree = DecisionTreeClassifier()\n",
    "dtree.fit(X_train,y_train)\n",
    "\n",
    "#Predicting on test data\n",
    "predictions = dtree.predict(X_test)\n",
    "\n",
    "#Printing the classification report and accuracy score\n",
    "print(accuracy_score(y_test,predictions))\n",
    "print(confusion_matrix(y_test,predictions))"
   ]
  },
  {
   "cell_type": "markdown",
   "metadata": {},
   "source": [
    "#### random forest"
   ]
  },
  {
   "cell_type": "code",
   "execution_count": 8,
   "metadata": {},
   "outputs": [
    {
     "name": "stdout",
     "output_type": "stream",
     "text": [
      "Accuracy: 0.2222222222222222\n",
      "[[0 6 0]\n",
      " [0 2 0]\n",
      " [0 1 0]]\n"
     ]
    }
   ],
   "source": [
    "rfc = RandomForestClassifier(n_estimators=100)\n",
    "# y_train is a column vector, but 1d array is expected. Therefore, we need to\n",
    "# change the shape to (n_samples,)\n",
    "rfc.fit(X_train, y_train.values.ravel())\n",
    "\n",
    "predictions = rfc.predict(X_test)\n",
    "print(\"Accuracy:\", accuracy_score(y_test, predictions))\n",
    "print(confusion_matrix(y_test,predictions))"
   ]
  }
 ],
 "metadata": {
  "kernelspec": {
   "display_name": "Python 3",
   "language": "python",
   "name": "python3"
  },
  "language_info": {
   "codemirror_mode": {
    "name": "ipython",
    "version": 3
   },
   "file_extension": ".py",
   "mimetype": "text/x-python",
   "name": "python",
   "nbconvert_exporter": "python",
   "pygments_lexer": "ipython3",
   "version": "3.7.3"
  }
 },
 "nbformat": 4,
 "nbformat_minor": 4
}
