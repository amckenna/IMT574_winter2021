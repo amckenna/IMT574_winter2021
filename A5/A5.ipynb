{
 "cells": [
  {
   "cell_type": "code",
   "execution_count": 18,
   "metadata": {},
   "outputs": [],
   "source": [
    "import pandas as pd\n",
    "import matplotlib.pyplot as plt\n",
    "\n",
    "from sklearn.cluster import KMeans\n",
    "from sklearn.metrics import confusion_matrix, accuracy_score\n",
    "import scipy.cluster.hierarchy as shc \n",
    "from sklearn.cluster import AgglomerativeClustering \n",
    "from sklearn.preprocessing import StandardScaler"
   ]
  },
  {
   "cell_type": "markdown",
   "metadata": {},
   "source": [
    "With the accidents involving Boeing's 737 Max, there have been speculations and concerns about airline safety. Then there was a crash of a helicopter involving Kobe Bryant. Academic studies have found that high-profile crashes can shift passenger demand away from the airlines involved in the disasters.\n",
    "\n",
    "Should Travelers Avoid Flying Airlines That Have Had Crashes in the Past? That’s the question we will try to address in this exercise. The dataset for this has been sourced from Aviation Safety Network and available at this link: https://github.com/fivethirtyeight/data/tree/master/airline-safety. (Links to an external site.)\n",
    "\n",
    "The dataset has following list of attributes:\n",
    "\n",
    "| Attribute Name         | Attribute Description                                                |\n",
    "|------------------------|----------------------------------------------------------------------|\n",
    "| airline                | Airline (asterisk indicates that regional subsidiaries are included) |\n",
    "| avail_seat_km_per_week | Available seat kilometers flown every week                           |\n",
    "| incidents_85_99        | Total number of incidents, 1985–1999                                 |\n",
    "| fatal_accidents_85_99  | Total number of fatal accidents, 1985–1999                           |\n",
    "| fatalities_85_99       | Total number of fatalities, 1985–1999                                |\n",
    "| incidents_00_14        | Total number of incidents, 2000–2014                                 |\n",
    "| fatal_accidents_00_14  | Total number of fatal accidents, 2000–2014                           |\n",
    "| fatalities_00_14       | Total number of fatalities, 2000–2014                                |\n",
    "\n",
    "Use this dataset and two different clustering approaches (agglomerative and divisive) to group the airlines with similar safety records. Do these two approaches lead to same/similar results? Provide appropriate visualizations, clustering summaries, and your interpretations."
   ]
  },
  {
   "cell_type": "code",
   "execution_count": 19,
   "metadata": {},
   "outputs": [
    {
     "data": {
      "text/html": [
       "<div>\n",
       "<style scoped>\n",
       "    .dataframe tbody tr th:only-of-type {\n",
       "        vertical-align: middle;\n",
       "    }\n",
       "\n",
       "    .dataframe tbody tr th {\n",
       "        vertical-align: top;\n",
       "    }\n",
       "\n",
       "    .dataframe thead th {\n",
       "        text-align: right;\n",
       "    }\n",
       "</style>\n",
       "<table border=\"1\" class=\"dataframe\">\n",
       "  <thead>\n",
       "    <tr style=\"text-align: right;\">\n",
       "      <th></th>\n",
       "      <th>airline</th>\n",
       "      <th>avail_seat_km_per_week</th>\n",
       "      <th>incidents_85_99</th>\n",
       "      <th>fatal_accidents_85_99</th>\n",
       "      <th>fatalities_85_99</th>\n",
       "      <th>incidents_00_14</th>\n",
       "      <th>fatal_accidents_00_14</th>\n",
       "      <th>fatalities_00_14</th>\n",
       "    </tr>\n",
       "  </thead>\n",
       "  <tbody>\n",
       "    <tr>\n",
       "      <th>0</th>\n",
       "      <td>Aer Lingus</td>\n",
       "      <td>320906734</td>\n",
       "      <td>2</td>\n",
       "      <td>0</td>\n",
       "      <td>0</td>\n",
       "      <td>0</td>\n",
       "      <td>0</td>\n",
       "      <td>0</td>\n",
       "    </tr>\n",
       "    <tr>\n",
       "      <th>1</th>\n",
       "      <td>Aeroflot*</td>\n",
       "      <td>1197672318</td>\n",
       "      <td>76</td>\n",
       "      <td>14</td>\n",
       "      <td>128</td>\n",
       "      <td>6</td>\n",
       "      <td>1</td>\n",
       "      <td>88</td>\n",
       "    </tr>\n",
       "    <tr>\n",
       "      <th>2</th>\n",
       "      <td>Aerolineas Argentinas</td>\n",
       "      <td>385803648</td>\n",
       "      <td>6</td>\n",
       "      <td>0</td>\n",
       "      <td>0</td>\n",
       "      <td>1</td>\n",
       "      <td>0</td>\n",
       "      <td>0</td>\n",
       "    </tr>\n",
       "    <tr>\n",
       "      <th>3</th>\n",
       "      <td>Aeromexico*</td>\n",
       "      <td>596871813</td>\n",
       "      <td>3</td>\n",
       "      <td>1</td>\n",
       "      <td>64</td>\n",
       "      <td>5</td>\n",
       "      <td>0</td>\n",
       "      <td>0</td>\n",
       "    </tr>\n",
       "    <tr>\n",
       "      <th>4</th>\n",
       "      <td>Air Canada</td>\n",
       "      <td>1865253802</td>\n",
       "      <td>2</td>\n",
       "      <td>0</td>\n",
       "      <td>0</td>\n",
       "      <td>2</td>\n",
       "      <td>0</td>\n",
       "      <td>0</td>\n",
       "    </tr>\n",
       "  </tbody>\n",
       "</table>\n",
       "</div>"
      ],
      "text/plain": [
       "                 airline  avail_seat_km_per_week  incidents_85_99  \\\n",
       "0             Aer Lingus               320906734                2   \n",
       "1              Aeroflot*              1197672318               76   \n",
       "2  Aerolineas Argentinas               385803648                6   \n",
       "3            Aeromexico*               596871813                3   \n",
       "4             Air Canada              1865253802                2   \n",
       "\n",
       "   fatal_accidents_85_99  fatalities_85_99  incidents_00_14  \\\n",
       "0                      0                 0                0   \n",
       "1                     14               128                6   \n",
       "2                      0                 0                1   \n",
       "3                      1                64                5   \n",
       "4                      0                 0                2   \n",
       "\n",
       "   fatal_accidents_00_14  fatalities_00_14  \n",
       "0                      0                 0  \n",
       "1                      1                88  \n",
       "2                      0                 0  \n",
       "3                      0                 0  \n",
       "4                      0                 0  "
      ]
     },
     "execution_count": 19,
     "metadata": {},
     "output_type": "execute_result"
    }
   ],
   "source": [
    "df = pd.read_csv(\"airline-safety.csv\")\n",
    "df.head()"
   ]
  },
  {
   "cell_type": "code",
   "execution_count": 36,
   "metadata": {},
   "outputs": [
    {
     "name": "stdout",
     "output_type": "stream",
     "text": [
      "# groups: 4\n",
      "[[  8.5        282.1       ]\n",
      " [  2.73333333   8.4       ]\n",
      " [ 12.75       471.75      ]\n",
      " [ 15.33333333 111.25      ]]\n",
      "[1 3 1 3 1 3 0 1 1 1 1 3 1 0 1 1 2 1 1 2 0 1 3 1 0 1 1 3 2 1 1 2 1 1 1 0 3\n",
      " 1 1 1 0 1 3 1 1 0 1 3 1 0 3 0 0 3 1 3]\n"
     ]
    }
   ],
   "source": [
    "## model : kmean\n",
    "#X = df.iloc[:,1:-1]\n",
    "X = df.iloc[:,[2,4]]\n",
    "num_group = 4\n",
    "print(\"# groups:\", num_group)\n",
    "#scaler = preprocessing.StandardScaler()\n",
    "#scaler.fit_transform(X)\n",
    "\n",
    "kmeans = KMeans(n_clusters=num_group)\n",
    "\n",
    "# Fitting the model\n",
    "y_kmeans = kmeans.fit_predict(X)\n",
    "centroids = kmeans.cluster_centers_\n",
    "print(centroids)\n",
    "print(y_kmeans)"
   ]
  },
  {
   "cell_type": "code",
   "execution_count": 37,
   "metadata": {},
   "outputs": [
    {
     "data": {
      "image/png": "[encoded data removed]",
      "text/plain": [
       "<Figure size 720x720 with 1 Axes>"
      ]
     },
     "metadata": {
      "needs_background": "light"
     },
     "output_type": "display_data"
    }
   ],
   "source": [
    "# Visualize the clusters\n",
    "plt.figure(figsize=(10,10))\n",
    "plt.scatter(X['incidents_85_99'], X['fatalities_85_99'], c = y_kmeans, cmap='rainbow')\n",
    "plt.scatter(centroids[:, 0], centroids[:, 1], c='black', s=100)\n",
    "plt.show()# Visualize the clusters"
   ]
  },
  {
   "cell_type": "code",
   "execution_count": 38,
   "metadata": {},
   "outputs": [
    {
     "data": {
      "image/png": "[encoded data removed]",
      "text/plain": [
       "<Figure size 720x720 with 1 Axes>"
      ]
     },
     "metadata": {
      "needs_background": "light"
     },
     "output_type": "display_data"
    }
   ],
   "source": [
    "#cVisualizing the data\n",
    "plt.figure(figsize =(10, 10)) \n",
    "plt.title('Agglomerative clustering') \n",
    "Dendrogram = shc.dendrogram((shc.linkage(X, method ='ward'))) \n",
    "\n",
    "#Making the object of Agglomerative Clustering\n",
    "ac = AgglomerativeClustering(n_clusters = 4) \n",
    "y_ac = ac.fit_predict(X)"
   ]
  },
  {
   "cell_type": "code",
   "execution_count": 39,
   "metadata": {},
   "outputs": [
    {
     "data": {
      "text/plain": [
       "array([3, 0, 3, 0, 3, 0, 1, 3, 3, 0, 3, 0, 3, 1, 3, 3, 2, 3, 0, 2, 1, 3,\n",
       "       0, 3, 1, 3, 3, 0, 2, 3, 3, 2, 3, 3, 0, 1, 0, 3, 0, 3, 1, 3, 0, 3,\n",
       "       3, 1, 3, 0, 3, 1, 0, 1, 1, 0, 3, 0])"
      ]
     },
     "execution_count": 39,
     "metadata": {},
     "output_type": "execute_result"
    }
   ],
   "source": [
    "y_ac"
   ]
  }
 ],
 "metadata": {
  "kernelspec": {
   "display_name": "Python 3",
   "language": "python",
   "name": "python3"
  },
  "language_info": {
   "codemirror_mode": {
    "name": "ipython",
    "version": 3
   },
   "file_extension": ".py",
   "mimetype": "text/x-python",
   "name": "python",
   "nbconvert_exporter": "python",
   "pygments_lexer": "ipython3",
   "version": "3.7.3"
  }
 },
 "nbformat": 4,
 "nbformat_minor": 4
}
