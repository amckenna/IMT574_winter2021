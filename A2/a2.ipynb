{
 "cells": [
  {
   "cell_type": "code",
   "execution_count": 14,
   "metadata": {},
   "outputs": [],
   "source": [
    "import os, glob\n",
    "current_location = os.getcwd()\n",
    "os.chdir(current_location)\n",
    "import pandas as pd\n",
    "import numpy as np\n",
    "from sklearn import linear_model"
   ]
  },
  {
   "cell_type": "markdown",
   "metadata": {},
   "source": [
    "**Problem-1**\n",
    "\n",
    "For this problem, you are going to use the Airline Costs dataset (Links to an external site.). And if you like, the cleaned up (better formatted in CSV) data is available from herePreview the document. The dataset has following attributes.\n",
    "\n",
    "- Airline\n",
    "- Length of flight (miles)\n",
    "- Speed of Plane (miles per hour)\n",
    "- Daily Flight Time per plane (hours)\n",
    "- Population served (1000s)\n",
    "- Total Operating Cost (cents per revenue ton-mile)\n",
    "- Revenue Tons per Aircraft mile\n",
    "- Ton-Mile load factor (proportion)\n",
    "- Available Capacity (Tons per mile)\n",
    "- Total Assets ($100,000s)\\\n",
    "- Investments and Special Funds ($100,000s)\n",
    "- Adjusted Assets ($100,000s)"
   ]
  },
  {
   "cell_type": "code",
   "execution_count": 24,
   "metadata": {
    "scrolled": true
   },
   "outputs": [
    {
     "data": {
      "text/html": [
       "<div>\n",
       "<style scoped>\n",
       "    .dataframe tbody tr th:only-of-type {\n",
       "        vertical-align: middle;\n",
       "    }\n",
       "\n",
       "    .dataframe tbody tr th {\n",
       "        vertical-align: top;\n",
       "    }\n",
       "\n",
       "    .dataframe thead th {\n",
       "        text-align: right;\n",
       "    }\n",
       "</style>\n",
       "<table border=\"1\" class=\"dataframe\">\n",
       "  <thead>\n",
       "    <tr style=\"text-align: right;\">\n",
       "      <th></th>\n",
       "      <th>Airline</th>\n",
       "      <th>Length</th>\n",
       "      <th>Speed</th>\n",
       "      <th>FlightTime</th>\n",
       "      <th>Population</th>\n",
       "      <th>Cost</th>\n",
       "      <th>Revenue</th>\n",
       "      <th>Load</th>\n",
       "      <th>Capacity</th>\n",
       "      <th>TotalAssets</th>\n",
       "      <th>Fund</th>\n",
       "      <th>AdjustedAssets</th>\n",
       "    </tr>\n",
       "  </thead>\n",
       "  <tbody>\n",
       "    <tr>\n",
       "      <th>0</th>\n",
       "      <td>All American</td>\n",
       "      <td>57</td>\n",
       "      <td>133</td>\n",
       "      <td>6.10</td>\n",
       "      <td>20200</td>\n",
       "      <td>116.3</td>\n",
       "      <td>0.96</td>\n",
       "      <td>0.400</td>\n",
       "      <td>2.400</td>\n",
       "      <td>21.13</td>\n",
       "      <td>3.21</td>\n",
       "      <td>17.92</td>\n",
       "    </tr>\n",
       "    <tr>\n",
       "      <th>1</th>\n",
       "      <td>American</td>\n",
       "      <td>270</td>\n",
       "      <td>216</td>\n",
       "      <td>6.93</td>\n",
       "      <td>56928</td>\n",
       "      <td>43.0</td>\n",
       "      <td>3.98</td>\n",
       "      <td>0.689</td>\n",
       "      <td>5.776</td>\n",
       "      <td>1436.53</td>\n",
       "      <td>165.22</td>\n",
       "      <td>1271.31</td>\n",
       "    </tr>\n",
       "    <tr>\n",
       "      <th>2</th>\n",
       "      <td>Bonanza</td>\n",
       "      <td>100</td>\n",
       "      <td>140</td>\n",
       "      <td>4.45</td>\n",
       "      <td>183</td>\n",
       "      <td>141.5</td>\n",
       "      <td>0.79</td>\n",
       "      <td>0.358</td>\n",
       "      <td>2.207</td>\n",
       "      <td>6.65</td>\n",
       "      <td>0.01</td>\n",
       "      <td>6.64</td>\n",
       "    </tr>\n",
       "    <tr>\n",
       "      <th>3</th>\n",
       "      <td>Braniff</td>\n",
       "      <td>176</td>\n",
       "      <td>182</td>\n",
       "      <td>6.60</td>\n",
       "      <td>11869</td>\n",
       "      <td>50.6</td>\n",
       "      <td>2.57</td>\n",
       "      <td>0.557</td>\n",
       "      <td>4.614</td>\n",
       "      <td>160.30</td>\n",
       "      <td>5.81</td>\n",
       "      <td>154.49</td>\n",
       "    </tr>\n",
       "    <tr>\n",
       "      <th>4</th>\n",
       "      <td>Capital</td>\n",
       "      <td>142</td>\n",
       "      <td>167</td>\n",
       "      <td>7.47</td>\n",
       "      <td>41097</td>\n",
       "      <td>51.0</td>\n",
       "      <td>2.68</td>\n",
       "      <td>0.510</td>\n",
       "      <td>5.255</td>\n",
       "      <td>195.02</td>\n",
       "      <td>6.06</td>\n",
       "      <td>188.96</td>\n",
       "    </tr>\n",
       "  </tbody>\n",
       "</table>\n",
       "</div>"
      ],
      "text/plain": [
       "        Airline  Length  Speed  FlightTime  Population   Cost  Revenue   Load  \\\n",
       "0  All American      57    133        6.10       20200  116.3     0.96  0.400   \n",
       "1      American     270    216        6.93       56928   43.0     3.98  0.689   \n",
       "2       Bonanza     100    140        4.45         183  141.5     0.79  0.358   \n",
       "3       Braniff     176    182        6.60       11869   50.6     2.57  0.557   \n",
       "4       Capital     142    167        7.47       41097   51.0     2.68  0.510   \n",
       "\n",
       "   Capacity  TotalAssets    Fund  AdjustedAssets  \n",
       "0     2.400        21.13    3.21           17.92  \n",
       "1     5.776      1436.53  165.22         1271.31  \n",
       "2     2.207         6.65    0.01            6.64  \n",
       "3     4.614       160.30    5.81          154.49  \n",
       "4     5.255       195.02    6.06          188.96  "
      ]
     },
     "execution_count": 24,
     "metadata": {},
     "output_type": "execute_result"
    }
   ],
   "source": [
    "data1 = pd.read_csv(\"airline_costs.csv\", header = None)\n",
    "cols = [\"Airline\", \"Length\", \"Speed\", \"FlightTime\", \"Population\", \n",
    "        \"Cost\",\"Revenue\",\"Load\", \"Capacity\", \"TotalAssets\", \n",
    "        \"Fund\",\"AdjustedAssets\"]\n",
    "data1.columns = cols\n",
    "data1.head()"
   ]
  },
  {
   "cell_type": "markdown",
   "metadata": {},
   "source": [
    "Use a linear regression model to predict the number of customers each airline serves from its length of the flight and daily flight time per plane. Report your model (linear equation). What is your predicted value for number of customers served for a flight that is 200 miles in length and has daily flight time per plane 7.2 hours? [3 points]"
   ]
  },
  {
   "cell_type": "code",
   "execution_count": 32,
   "metadata": {},
   "outputs": [
    {
     "data": {
      "text/plain": [
       "array([[27331.03461682]])"
      ]
     },
     "execution_count": 32,
     "metadata": {},
     "output_type": "execute_result"
    }
   ],
   "source": [
    "# Create linear regression object\n",
    "regr = linear_model.LinearRegression()\n",
    "\n",
    "x_train = data1[[\"Length\", \"FlightTime\"]]\n",
    "y_train = data1[[\"Population\"]]\n",
    "# Train the model using the training sets\n",
    "regr.fit(x_train, y_train)\n",
    "\n",
    "regr.predict([[200,7.2]])"
   ]
  },
  {
   "cell_type": "markdown",
   "metadata": {},
   "source": [
    "Next, build another regression model to predict the total assets of an airline from the customer served by the airline. Once again, report your model. What is your prediction for total assets for an airline, given they serve 20,300,000 customers? [3 points]"
   ]
  },
  {
   "cell_type": "code",
   "execution_count": 29,
   "metadata": {},
   "outputs": [
    {
     "data": {
      "text/plain": [
       "array([[341.08205955]])"
      ]
     },
     "execution_count": 29,
     "metadata": {},
     "output_type": "execute_result"
    }
   ],
   "source": [
    "# Create linear regression object\n",
    "regr = linear_model.LinearRegression()\n",
    "\n",
    "x_train = data1[[\"Population\"]]\n",
    "y_train = data1[[\"TotalAssets\"]]\n",
    "# Train the model using the training sets\n",
    "regr.fit(x_train, y_train)\n",
    "\n",
    "regr.predict([[20300]])"
   ]
  },
  {
   "cell_type": "markdown",
   "metadata": {},
   "source": [
    "**Problem-2** \n",
    "For this problem, we are going to use the All Greens Franchise data set (Links to an external site.). It contain 27 observations about All Greens sales that has five predictor variables apart from the annual net sales figure. Use this dataset and perform the following sets of analyses.\n",
    "\n",
    "- X1 = annual net sales/$1000\n",
    "- X2 = number sq. ft./1000\n",
    "- X3 = inventory/$1000\n",
    "- X4 = amount spent on advertizing/$1000\n",
    "- X5 = size of sales district/1000 families\n",
    "- X6 = number of competing stores in district"
   ]
  },
  {
   "cell_type": "code",
   "execution_count": 34,
   "metadata": {},
   "outputs": [
    {
     "data": {
      "text/html": [
       "<div>\n",
       "<style scoped>\n",
       "    .dataframe tbody tr th:only-of-type {\n",
       "        vertical-align: middle;\n",
       "    }\n",
       "\n",
       "    .dataframe tbody tr th {\n",
       "        vertical-align: top;\n",
       "    }\n",
       "\n",
       "    .dataframe thead th {\n",
       "        text-align: right;\n",
       "    }\n",
       "</style>\n",
       "<table border=\"1\" class=\"dataframe\">\n",
       "  <thead>\n",
       "    <tr style=\"text-align: right;\">\n",
       "      <th></th>\n",
       "      <th>NetSales</th>\n",
       "      <th>NumberSq</th>\n",
       "      <th>Inventory</th>\n",
       "      <th>SpentAdvertising</th>\n",
       "      <th>SizeDistrict</th>\n",
       "      <th>NumberStores</th>\n",
       "    </tr>\n",
       "  </thead>\n",
       "  <tbody>\n",
       "    <tr>\n",
       "      <th>0</th>\n",
       "      <td>231.0</td>\n",
       "      <td>3.0</td>\n",
       "      <td>294</td>\n",
       "      <td>8.2</td>\n",
       "      <td>8.2</td>\n",
       "      <td>11</td>\n",
       "    </tr>\n",
       "    <tr>\n",
       "      <th>1</th>\n",
       "      <td>156.0</td>\n",
       "      <td>2.2</td>\n",
       "      <td>232</td>\n",
       "      <td>6.9</td>\n",
       "      <td>4.1</td>\n",
       "      <td>12</td>\n",
       "    </tr>\n",
       "    <tr>\n",
       "      <th>2</th>\n",
       "      <td>10.0</td>\n",
       "      <td>0.5</td>\n",
       "      <td>149</td>\n",
       "      <td>3.0</td>\n",
       "      <td>4.3</td>\n",
       "      <td>15</td>\n",
       "    </tr>\n",
       "  </tbody>\n",
       "</table>\n",
       "</div>"
      ],
      "text/plain": [
       "   NetSales  NumberSq  Inventory  SpentAdvertising  SizeDistrict  NumberStores\n",
       "0     231.0       3.0        294               8.2           8.2            11\n",
       "1     156.0       2.2        232               6.9           4.1            12\n",
       "2      10.0       0.5        149               3.0           4.3            15"
      ]
     },
     "execution_count": 34,
     "metadata": {},
     "output_type": "execute_result"
    }
   ],
   "source": [
    "data2 = pd.read_excel(\"mlr05.xls\")\n",
    "cols = [\"NetSales\", \"NumberSq\", \"Inventory\", \"SpentAdvertising\", \n",
    "        \"SizeDistrict\", \"NumberCompetitors\"]\n",
    "data2.columns = cols\n",
    "data2.head(3)"
   ]
  },
  {
   "cell_type": "markdown",
   "metadata": {},
   "source": [
    "Find the correlation of annual net sales with money spent on advertising and number of competitors in the area. Provide your one-sentence interpretation. [2 points]\n"
   ]
  },
  {
   "cell_type": "code",
   "execution_count": 35,
   "metadata": {
    "scrolled": true
   },
   "outputs": [
    {
     "data": {
      "text/html": [
       "<div>\n",
       "<style scoped>\n",
       "    .dataframe tbody tr th:only-of-type {\n",
       "        vertical-align: middle;\n",
       "    }\n",
       "\n",
       "    .dataframe tbody tr th {\n",
       "        vertical-align: top;\n",
       "    }\n",
       "\n",
       "    .dataframe thead th {\n",
       "        text-align: right;\n",
       "    }\n",
       "</style>\n",
       "<table border=\"1\" class=\"dataframe\">\n",
       "  <thead>\n",
       "    <tr style=\"text-align: right;\">\n",
       "      <th></th>\n",
       "      <th>NetSales</th>\n",
       "      <th>NumberSq</th>\n",
       "      <th>Inventory</th>\n",
       "      <th>SpentAdvertising</th>\n",
       "      <th>SizeDistrict</th>\n",
       "      <th>NumberStores</th>\n",
       "    </tr>\n",
       "  </thead>\n",
       "  <tbody>\n",
       "    <tr>\n",
       "      <th>NetSales</th>\n",
       "      <td>1.000000</td>\n",
       "      <td>0.894092</td>\n",
       "      <td>0.945504</td>\n",
       "      <td>0.914024</td>\n",
       "      <td>0.953683</td>\n",
       "      <td>-0.912236</td>\n",
       "    </tr>\n",
       "    <tr>\n",
       "      <th>NumberSq</th>\n",
       "      <td>0.894092</td>\n",
       "      <td>1.000000</td>\n",
       "      <td>0.843616</td>\n",
       "      <td>0.748587</td>\n",
       "      <td>0.838023</td>\n",
       "      <td>-0.765738</td>\n",
       "    </tr>\n",
       "    <tr>\n",
       "      <th>Inventory</th>\n",
       "      <td>0.945504</td>\n",
       "      <td>0.843616</td>\n",
       "      <td>1.000000</td>\n",
       "      <td>0.906231</td>\n",
       "      <td>0.863917</td>\n",
       "      <td>-0.807380</td>\n",
       "    </tr>\n",
       "    <tr>\n",
       "      <th>SpentAdvertising</th>\n",
       "      <td>0.914024</td>\n",
       "      <td>0.748587</td>\n",
       "      <td>0.906231</td>\n",
       "      <td>1.000000</td>\n",
       "      <td>0.795434</td>\n",
       "      <td>-0.841280</td>\n",
       "    </tr>\n",
       "    <tr>\n",
       "      <th>SizeDistrict</th>\n",
       "      <td>0.953683</td>\n",
       "      <td>0.838023</td>\n",
       "      <td>0.863917</td>\n",
       "      <td>0.795434</td>\n",
       "      <td>1.000000</td>\n",
       "      <td>-0.869590</td>\n",
       "    </tr>\n",
       "    <tr>\n",
       "      <th>NumberStores</th>\n",
       "      <td>-0.912236</td>\n",
       "      <td>-0.765738</td>\n",
       "      <td>-0.807380</td>\n",
       "      <td>-0.841280</td>\n",
       "      <td>-0.869590</td>\n",
       "      <td>1.000000</td>\n",
       "    </tr>\n",
       "  </tbody>\n",
       "</table>\n",
       "</div>"
      ],
      "text/plain": [
       "                  NetSales  NumberSq  Inventory  SpentAdvertising  \\\n",
       "NetSales          1.000000  0.894092   0.945504          0.914024   \n",
       "NumberSq          0.894092  1.000000   0.843616          0.748587   \n",
       "Inventory         0.945504  0.843616   1.000000          0.906231   \n",
       "SpentAdvertising  0.914024  0.748587   0.906231          1.000000   \n",
       "SizeDistrict      0.953683  0.838023   0.863917          0.795434   \n",
       "NumberStores     -0.912236 -0.765738  -0.807380         -0.841280   \n",
       "\n",
       "                  SizeDistrict  NumberStores  \n",
       "NetSales              0.953683     -0.912236  \n",
       "NumberSq              0.838023     -0.765738  \n",
       "Inventory             0.863917     -0.807380  \n",
       "SpentAdvertising      0.795434     -0.841280  \n",
       "SizeDistrict          1.000000     -0.869590  \n",
       "NumberStores         -0.869590      1.000000  "
      ]
     },
     "execution_count": 35,
     "metadata": {},
     "output_type": "execute_result"
    }
   ],
   "source": [
    "data2.corr(method ='pearson') "
   ]
  },
  {
   "cell_type": "markdown",
   "metadata": {},
   "source": [
    "The annual net sales and money spent on advertising have a positive strong correlation `(0.9140241)`, while the annual net sales with number of competitors have a negative correlation `(-0.9122364)`."
   ]
  },
  {
   "cell_type": "markdown",
   "metadata": {},
   "source": [
    "Build a regression model to predict the annual net sales figure using the other five columns in the data set. Report your model. [2 points]"
   ]
  },
  {
   "cell_type": "code",
   "execution_count": 49,
   "metadata": {},
   "outputs": [
    {
     "name": "stdout",
     "output_type": "stream",
     "text": [
      "LinearRegression()\n"
     ]
    }
   ],
   "source": [
    "# Create linear regression object\n",
    "regr = linear_model.LinearRegression()\n",
    "\n",
    "x_train = data2.iloc[:, 1:]\n",
    "y_train = data2.iloc[:, 0]\n",
    "# Train the model using the training sets\n",
    "regr.fit(x_train, y_train)\n",
    "print(regr)"
   ]
  },
  {
   "cell_type": "code",
   "execution_count": 55,
   "metadata": {},
   "outputs": [
    {
     "name": "stdout",
     "output_type": "stream",
     "text": [
      "intercept: -18.85941415699932 \n",
      "coef: [16.20157356  0.17463515 11.52626903 13.5803129  -5.31097141]\n"
     ]
    }
   ],
   "source": [
    "print(\"intercept:\", regr.intercept_, \"\\ncoef:\", regr.coef_)"
   ]
  },
  {
   "cell_type": "code",
   "execution_count": null,
   "metadata": {},
   "outputs": [],
   "source": []
  }
 ],
 "metadata": {
  "kernelspec": {
   "display_name": "Python 3",
   "language": "python",
   "name": "python3"
  },
  "language_info": {
   "codemirror_mode": {
    "name": "ipython",
    "version": 3
   },
   "file_extension": ".py",
   "mimetype": "text/x-python",
   "name": "python",
   "nbconvert_exporter": "python",
   "pygments_lexer": "ipython3",
   "version": "3.7.3"
  }
 },
 "nbformat": 4,
 "nbformat_minor": 4
}
