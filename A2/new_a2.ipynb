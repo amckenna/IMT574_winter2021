{
 "cells": [
  {
   "cell_type": "code",
   "execution_count": 5,
   "metadata": {},
   "outputs": [],
   "source": [
    "import os, glob\n",
    "current_location = os.getcwd()\n",
    "os.chdir(current_location)\n",
    "\n",
    "import pandas as pd\n",
    "import numpy as np\n",
    "\n",
    "from sklearn import linear_model\n",
    "from sklearn import preprocessing\n",
    "\n",
    "import statsmodels.api as sm\n",
    "import statsmodels.formula.api as smf\n",
    "\n",
    "import seaborn as sns\n",
    "import matplotlib.pyplot as plt"
   ]
  },
  {
   "cell_type": "markdown",
   "metadata": {},
   "source": [
    "## Problem-1-1"
   ]
  },
  {
   "cell_type": "code",
   "execution_count": 9,
   "metadata": {},
   "outputs": [
    {
     "data": {
      "text/html": [
       "<div>\n",
       "<style scoped>\n",
       "    .dataframe tbody tr th:only-of-type {\n",
       "        vertical-align: middle;\n",
       "    }\n",
       "\n",
       "    .dataframe tbody tr th {\n",
       "        vertical-align: top;\n",
       "    }\n",
       "\n",
       "    .dataframe thead th {\n",
       "        text-align: right;\n",
       "    }\n",
       "</style>\n",
       "<table border=\"1\" class=\"dataframe\">\n",
       "  <thead>\n",
       "    <tr style=\"text-align: right;\">\n",
       "      <th></th>\n",
       "      <th>Airline</th>\n",
       "      <th>Length</th>\n",
       "      <th>Speed</th>\n",
       "      <th>FlightTime</th>\n",
       "      <th>Population</th>\n",
       "      <th>Cost</th>\n",
       "      <th>Revenue</th>\n",
       "      <th>Load</th>\n",
       "      <th>Capacity</th>\n",
       "      <th>TotalAssets</th>\n",
       "      <th>Fund</th>\n",
       "      <th>AdjustedAssets</th>\n",
       "    </tr>\n",
       "  </thead>\n",
       "  <tbody>\n",
       "    <tr>\n",
       "      <th>0</th>\n",
       "      <td>All American</td>\n",
       "      <td>57</td>\n",
       "      <td>133</td>\n",
       "      <td>6.10</td>\n",
       "      <td>20200</td>\n",
       "      <td>116.3</td>\n",
       "      <td>0.96</td>\n",
       "      <td>0.400</td>\n",
       "      <td>2.400</td>\n",
       "      <td>21.13</td>\n",
       "      <td>3.21</td>\n",
       "      <td>17.92</td>\n",
       "    </tr>\n",
       "    <tr>\n",
       "      <th>1</th>\n",
       "      <td>American</td>\n",
       "      <td>270</td>\n",
       "      <td>216</td>\n",
       "      <td>6.93</td>\n",
       "      <td>56928</td>\n",
       "      <td>43.0</td>\n",
       "      <td>3.98</td>\n",
       "      <td>0.689</td>\n",
       "      <td>5.776</td>\n",
       "      <td>1436.53</td>\n",
       "      <td>165.22</td>\n",
       "      <td>1271.31</td>\n",
       "    </tr>\n",
       "    <tr>\n",
       "      <th>2</th>\n",
       "      <td>Bonanza</td>\n",
       "      <td>100</td>\n",
       "      <td>140</td>\n",
       "      <td>4.45</td>\n",
       "      <td>183</td>\n",
       "      <td>141.5</td>\n",
       "      <td>0.79</td>\n",
       "      <td>0.358</td>\n",
       "      <td>2.207</td>\n",
       "      <td>6.65</td>\n",
       "      <td>0.01</td>\n",
       "      <td>6.64</td>\n",
       "    </tr>\n",
       "    <tr>\n",
       "      <th>3</th>\n",
       "      <td>Braniff</td>\n",
       "      <td>176</td>\n",
       "      <td>182</td>\n",
       "      <td>6.60</td>\n",
       "      <td>11869</td>\n",
       "      <td>50.6</td>\n",
       "      <td>2.57</td>\n",
       "      <td>0.557</td>\n",
       "      <td>4.614</td>\n",
       "      <td>160.30</td>\n",
       "      <td>5.81</td>\n",
       "      <td>154.49</td>\n",
       "    </tr>\n",
       "    <tr>\n",
       "      <th>4</th>\n",
       "      <td>Capital</td>\n",
       "      <td>142</td>\n",
       "      <td>167</td>\n",
       "      <td>7.47</td>\n",
       "      <td>41097</td>\n",
       "      <td>51.0</td>\n",
       "      <td>2.68</td>\n",
       "      <td>0.510</td>\n",
       "      <td>5.255</td>\n",
       "      <td>195.02</td>\n",
       "      <td>6.06</td>\n",
       "      <td>188.96</td>\n",
       "    </tr>\n",
       "  </tbody>\n",
       "</table>\n",
       "</div>"
      ],
      "text/plain": [
       "        Airline  Length  Speed  FlightTime  Population   Cost  Revenue   Load  \\\n",
       "0  All American      57    133        6.10       20200  116.3     0.96  0.400   \n",
       "1      American     270    216        6.93       56928   43.0     3.98  0.689   \n",
       "2       Bonanza     100    140        4.45         183  141.5     0.79  0.358   \n",
       "3       Braniff     176    182        6.60       11869   50.6     2.57  0.557   \n",
       "4       Capital     142    167        7.47       41097   51.0     2.68  0.510   \n",
       "\n",
       "   Capacity  TotalAssets    Fund  AdjustedAssets  \n",
       "0     2.400        21.13    3.21           17.92  \n",
       "1     5.776      1436.53  165.22         1271.31  \n",
       "2     2.207         6.65    0.01            6.64  \n",
       "3     4.614       160.30    5.81          154.49  \n",
       "4     5.255       195.02    6.06          188.96  "
      ]
     },
     "execution_count": 9,
     "metadata": {},
     "output_type": "execute_result"
    }
   ],
   "source": [
    "data1 = pd.read_csv(\"airline_costs.csv\", header = None)\n",
    "cols = [\"Airline\", \"Length\", \"Speed\", \"FlightTime\", \"Population\", \n",
    "        \"Cost\",\"Revenue\",\"Load\", \"Capacity\", \"TotalAssets\", \n",
    "        \"Fund\",\"AdjustedAssets\"]\n",
    "data1.columns = cols\n",
    "data1.head()"
   ]
  },
  {
   "cell_type": "code",
   "execution_count": 10,
   "metadata": {},
   "outputs": [
    {
     "data": {
      "text/plain": [
       "<matplotlib.collections.PathCollection at 0x1a195df780>"
      ]
     },
     "execution_count": 10,
     "metadata": {},
     "output_type": "execute_result"
    },
    {
     "data": {
      "image/png": "[encoded data removed]",
      "text/plain": [
       "<Figure size 432x288 with 1 Axes>"
      ]
     },
     "metadata": {
      "needs_background": "light"
     },
     "output_type": "display_data"
    }
   ],
   "source": [
    "plt.scatter(data1.Length, data1.Population)"
   ]
  },
  {
   "cell_type": "code",
   "execution_count": 11,
   "metadata": {},
   "outputs": [
    {
     "data": {
      "text/plain": [
       "<matplotlib.collections.PathCollection at 0x1a196eeac8>"
      ]
     },
     "execution_count": 11,
     "metadata": {},
     "output_type": "execute_result"
    },
    {
     "data": {
      "image/png": "[encoded data removed]",
      "text/plain": [
       "<Figure size 432x288 with 1 Axes>"
      ]
     },
     "metadata": {
      "needs_background": "light"
     },
     "output_type": "display_data"
    }
   ],
   "source": [
    "#Scatter plot of flight time and population\n",
    "plt.scatter(data1.FlightTime, data1.Population)"
   ]
  },
  {
   "cell_type": "code",
   "execution_count": 12,
   "metadata": {},
   "outputs": [
    {
     "name": "stdout",
     "output_type": "stream",
     "text": [
      "intercept: [-7792.07064806] \n",
      "coef: [[ 183.29555165 -213.33403675]]\n",
      "prediction: [[27331.03461682]]\n"
     ]
    }
   ],
   "source": [
    "# Create linear regression object\n",
    "regr = linear_model.LinearRegression()\n",
    "\n",
    "x_train = data1[[\"Length\", \"FlightTime\"]]\n",
    "y_train = data1[[\"Population\"]]\n",
    "# Train the model using the training sets\n",
    "regr.fit(x_train, y_train)\n",
    "\n",
    "print(\"intercept:\", regr.intercept_, \"\\ncoef:\", regr.coef_)\n",
    "print(\"prediction:\", regr.predict([[200,7.2]]))"
   ]
  },
  {
   "cell_type": "code",
   "execution_count": 13,
   "metadata": {},
   "outputs": [
    {
     "data": {
      "text/html": [
       "<table class=\"simpletable\">\n",
       "<caption>OLS Regression Results</caption>\n",
       "<tr>\n",
       "  <th>Dep. Variable:</th>       <td>Population</td>    <th>  R-squared:         </th> <td>   0.622</td>\n",
       "</tr>\n",
       "<tr>\n",
       "  <th>Model:</th>                   <td>OLS</td>       <th>  Adj. R-squared:    </th> <td>   0.595</td>\n",
       "</tr>\n",
       "<tr>\n",
       "  <th>Method:</th>             <td>Least Squares</td>  <th>  F-statistic:       </th> <td>   23.00</td>\n",
       "</tr>\n",
       "<tr>\n",
       "  <th>Date:</th>             <td>Sun, 17 Jan 2021</td> <th>  Prob (F-statistic):</th> <td>1.23e-06</td>\n",
       "</tr>\n",
       "<tr>\n",
       "  <th>Time:</th>                 <td>00:26:28</td>     <th>  Log-Likelihood:    </th> <td> -330.06</td>\n",
       "</tr>\n",
       "<tr>\n",
       "  <th>No. Observations:</th>      <td>    31</td>      <th>  AIC:               </th> <td>   666.1</td>\n",
       "</tr>\n",
       "<tr>\n",
       "  <th>Df Residuals:</th>          <td>    28</td>      <th>  BIC:               </th> <td>   670.4</td>\n",
       "</tr>\n",
       "<tr>\n",
       "  <th>Df Model:</th>              <td>     2</td>      <th>                     </th>     <td> </td>   \n",
       "</tr>\n",
       "<tr>\n",
       "  <th>Covariance Type:</th>      <td>nonrobust</td>    <th>                     </th>     <td> </td>   \n",
       "</tr>\n",
       "</table>\n",
       "<table class=\"simpletable\">\n",
       "<tr>\n",
       "       <td></td>         <th>coef</th>     <th>std err</th>      <th>t</th>      <th>P>|t|</th>  <th>[0.025</th>    <th>0.975]</th>  \n",
       "</tr>\n",
       "<tr>\n",
       "  <th>Intercept</th>  <td>-7792.0706</td> <td> 8396.998</td> <td>   -0.928</td> <td> 0.361</td> <td> -2.5e+04</td> <td> 9408.401</td>\n",
       "</tr>\n",
       "<tr>\n",
       "  <th>Length</th>     <td>  183.2956</td> <td>   30.414</td> <td>    6.027</td> <td> 0.000</td> <td>  120.995</td> <td>  245.596</td>\n",
       "</tr>\n",
       "<tr>\n",
       "  <th>FlightTime</th> <td> -213.3340</td> <td> 1436.955</td> <td>   -0.148</td> <td> 0.883</td> <td>-3156.803</td> <td> 2730.134</td>\n",
       "</tr>\n",
       "</table>\n",
       "<table class=\"simpletable\">\n",
       "<tr>\n",
       "  <th>Omnibus:</th>       <td> 2.469</td> <th>  Durbin-Watson:     </th> <td>   1.894</td>\n",
       "</tr>\n",
       "<tr>\n",
       "  <th>Prob(Omnibus):</th> <td> 0.291</td> <th>  Jarque-Bera (JB):  </th> <td>   1.851</td>\n",
       "</tr>\n",
       "<tr>\n",
       "  <th>Skew:</th>          <td> 0.598</td> <th>  Prob(JB):          </th> <td>   0.396</td>\n",
       "</tr>\n",
       "<tr>\n",
       "  <th>Kurtosis:</th>      <td> 2.931</td> <th>  Cond. No.          </th> <td>    653.</td>\n",
       "</tr>\n",
       "</table><br/><br/>Warnings:<br/>[1] Standard Errors assume that the covariance matrix of the errors is correctly specified."
      ],
      "text/plain": [
       "<class 'statsmodels.iolib.summary.Summary'>\n",
       "\"\"\"\n",
       "                            OLS Regression Results                            \n",
       "==============================================================================\n",
       "Dep. Variable:             Population   R-squared:                       0.622\n",
       "Model:                            OLS   Adj. R-squared:                  0.595\n",
       "Method:                 Least Squares   F-statistic:                     23.00\n",
       "Date:                Sun, 17 Jan 2021   Prob (F-statistic):           1.23e-06\n",
       "Time:                        00:26:28   Log-Likelihood:                -330.06\n",
       "No. Observations:                  31   AIC:                             666.1\n",
       "Df Residuals:                      28   BIC:                             670.4\n",
       "Df Model:                           2                                         \n",
       "Covariance Type:            nonrobust                                         \n",
       "==============================================================================\n",
       "                 coef    std err          t      P>|t|      [0.025      0.975]\n",
       "------------------------------------------------------------------------------\n",
       "Intercept  -7792.0706   8396.998     -0.928      0.361    -2.5e+04    9408.401\n",
       "Length       183.2956     30.414      6.027      0.000     120.995     245.596\n",
       "FlightTime  -213.3340   1436.955     -0.148      0.883   -3156.803    2730.134\n",
       "==============================================================================\n",
       "Omnibus:                        2.469   Durbin-Watson:                   1.894\n",
       "Prob(Omnibus):                  0.291   Jarque-Bera (JB):                1.851\n",
       "Skew:                           0.598   Prob(JB):                        0.396\n",
       "Kurtosis:                       2.931   Cond. No.                         653.\n",
       "==============================================================================\n",
       "\n",
       "Warnings:\n",
       "[1] Standard Errors assume that the covariance matrix of the errors is correctly specified.\n",
       "\"\"\""
      ]
     },
     "execution_count": 13,
     "metadata": {},
     "output_type": "execute_result"
    }
   ],
   "source": [
    "#Creating the linear model and printing it's summary\n",
    "lr_model = smf.ols(formula = 'Population ~ Length+FlightTime', data = data1).fit()\n",
    "lr_model.summary()"
   ]
  },
  {
   "cell_type": "markdown",
   "metadata": {},
   "source": [
    "## Problem-1-2"
   ]
  },
  {
   "cell_type": "code",
   "execution_count": 16,
   "metadata": {},
   "outputs": [
    {
     "name": "stdout",
     "output_type": "stream",
     "text": [
      "intercept: [-98.50798581] \n",
      "coef: [[0.02165468]]\n",
      "prediction: [[341.08205955]]\n"
     ]
    }
   ],
   "source": [
    "# Create linear regression object\n",
    "regr = linear_model.LinearRegression()\n",
    "\n",
    "x_train = data1[[\"Population\"]]\n",
    "y_train = data1[[\"TotalAssets\"]]\n",
    "# Train the model using the training sets\n",
    "regr.fit(x_train, y_train)\n",
    "\n",
    "print(\"intercept:\", regr.intercept_, \"\\ncoef:\", regr.coef_)\n",
    "print(\"prediction:\", regr.predict([[20300]]))"
   ]
  },
  {
   "cell_type": "code",
   "execution_count": 15,
   "metadata": {},
   "outputs": [
    {
     "data": {
      "text/html": [
       "<table class=\"simpletable\">\n",
       "<caption>OLS Regression Results</caption>\n",
       "<tr>\n",
       "  <th>Dep. Variable:</th>       <td>TotalAssets</td>   <th>  R-squared:         </th> <td>   0.819</td>\n",
       "</tr>\n",
       "<tr>\n",
       "  <th>Model:</th>                   <td>OLS</td>       <th>  Adj. R-squared:    </th> <td>   0.812</td>\n",
       "</tr>\n",
       "<tr>\n",
       "  <th>Method:</th>             <td>Least Squares</td>  <th>  F-statistic:       </th> <td>   130.9</td>\n",
       "</tr>\n",
       "<tr>\n",
       "  <th>Date:</th>             <td>Sun, 17 Jan 2021</td> <th>  Prob (F-statistic):</th> <td>2.85e-12</td>\n",
       "</tr>\n",
       "<tr>\n",
       "  <th>Time:</th>                 <td>00:27:31</td>     <th>  Log-Likelihood:    </th> <td> -202.95</td>\n",
       "</tr>\n",
       "<tr>\n",
       "  <th>No. Observations:</th>      <td>    31</td>      <th>  AIC:               </th> <td>   409.9</td>\n",
       "</tr>\n",
       "<tr>\n",
       "  <th>Df Residuals:</th>          <td>    29</td>      <th>  BIC:               </th> <td>   412.8</td>\n",
       "</tr>\n",
       "<tr>\n",
       "  <th>Df Model:</th>              <td>     1</td>      <th>                     </th>     <td> </td>   \n",
       "</tr>\n",
       "<tr>\n",
       "  <th>Covariance Type:</th>      <td>nonrobust</td>    <th>                     </th>     <td> </td>   \n",
       "</tr>\n",
       "</table>\n",
       "<table class=\"simpletable\">\n",
       "<tr>\n",
       "       <td></td>         <th>coef</th>     <th>std err</th>      <th>t</th>      <th>P>|t|</th>  <th>[0.025</th>    <th>0.975]</th>  \n",
       "</tr>\n",
       "<tr>\n",
       "  <th>Intercept</th>  <td>  -98.5080</td> <td>   41.633</td> <td>   -2.366</td> <td> 0.025</td> <td> -183.656</td> <td>  -13.360</td>\n",
       "</tr>\n",
       "<tr>\n",
       "  <th>Population</th> <td>    0.0217</td> <td>    0.002</td> <td>   11.442</td> <td> 0.000</td> <td>    0.018</td> <td>    0.026</td>\n",
       "</tr>\n",
       "</table>\n",
       "<table class=\"simpletable\">\n",
       "<tr>\n",
       "  <th>Omnibus:</th>       <td>18.279</td> <th>  Durbin-Watson:     </th> <td>   1.745</td>\n",
       "</tr>\n",
       "<tr>\n",
       "  <th>Prob(Omnibus):</th> <td> 0.000</td> <th>  Jarque-Bera (JB):  </th> <td>  24.501</td>\n",
       "</tr>\n",
       "<tr>\n",
       "  <th>Skew:</th>          <td>-1.486</td> <th>  Prob(JB):          </th> <td>4.78e-06</td>\n",
       "</tr>\n",
       "<tr>\n",
       "  <th>Kurtosis:</th>      <td> 6.183</td> <th>  Cond. No.          </th> <td>2.92e+04</td>\n",
       "</tr>\n",
       "</table><br/><br/>Warnings:<br/>[1] Standard Errors assume that the covariance matrix of the errors is correctly specified.<br/>[2] The condition number is large, 2.92e+04. This might indicate that there are<br/>strong multicollinearity or other numerical problems."
      ],
      "text/plain": [
       "<class 'statsmodels.iolib.summary.Summary'>\n",
       "\"\"\"\n",
       "                            OLS Regression Results                            \n",
       "==============================================================================\n",
       "Dep. Variable:            TotalAssets   R-squared:                       0.819\n",
       "Model:                            OLS   Adj. R-squared:                  0.812\n",
       "Method:                 Least Squares   F-statistic:                     130.9\n",
       "Date:                Sun, 17 Jan 2021   Prob (F-statistic):           2.85e-12\n",
       "Time:                        00:27:31   Log-Likelihood:                -202.95\n",
       "No. Observations:                  31   AIC:                             409.9\n",
       "Df Residuals:                      29   BIC:                             412.8\n",
       "Df Model:                           1                                         \n",
       "Covariance Type:            nonrobust                                         \n",
       "==============================================================================\n",
       "                 coef    std err          t      P>|t|      [0.025      0.975]\n",
       "------------------------------------------------------------------------------\n",
       "Intercept    -98.5080     41.633     -2.366      0.025    -183.656     -13.360\n",
       "Population     0.0217      0.002     11.442      0.000       0.018       0.026\n",
       "==============================================================================\n",
       "Omnibus:                       18.279   Durbin-Watson:                   1.745\n",
       "Prob(Omnibus):                  0.000   Jarque-Bera (JB):               24.501\n",
       "Skew:                          -1.486   Prob(JB):                     4.78e-06\n",
       "Kurtosis:                       6.183   Cond. No.                     2.92e+04\n",
       "==============================================================================\n",
       "\n",
       "Warnings:\n",
       "[1] Standard Errors assume that the covariance matrix of the errors is correctly specified.\n",
       "[2] The condition number is large, 2.92e+04. This might indicate that there are\n",
       "strong multicollinearity or other numerical problems.\n",
       "\"\"\""
      ]
     },
     "execution_count": 15,
     "metadata": {},
     "output_type": "execute_result"
    }
   ],
   "source": [
    "#Creating the linear model and printing it's summary\n",
    "lr_model2 = smf.ols(formula = 'TotalAssets ~ Population', data = data1).fit()\n",
    "lr_model2.summary()"
   ]
  },
  {
   "cell_type": "markdown",
   "metadata": {},
   "source": [
    "## Problem-2"
   ]
  },
  {
   "cell_type": "code",
   "execution_count": 19,
   "metadata": {
    "colab": {
     "base_uri": "https://localhost:8080/"
    },
    "id": "aa7Jz9ddxZtN",
    "outputId": "385847f7-3b1b-454f-8b22-f3113b28f9ec",
    "scrolled": true
   },
   "outputs": [
    {
     "name": "stdout",
     "output_type": "stream",
     "text": [
      "*** No CODEPAGE record, no encoding_override: will use 'ascii'\n",
      "                            OLS Regression Results                            \n",
      "==============================================================================\n",
      "Dep. Variable:                      Y   R-squared:                       0.777\n",
      "Model:                            OLS   Adj. R-squared:                  0.772\n",
      "Method:                 Least Squares   F-statistic:                     149.7\n",
      "Date:                Sun, 17 Jan 2021   Prob (F-statistic):           1.34e-15\n",
      "Time:                        00:31:20   Log-Likelihood:                -182.98\n",
      "No. Observations:                  45   AIC:                             370.0\n",
      "Df Residuals:                      43   BIC:                             373.6\n",
      "Df Model:                           1                                         \n",
      "Covariance Type:            nonrobust                                         \n",
      "==============================================================================\n",
      "                 coef    std err          t      P>|t|      [0.025      0.975]\n",
      "------------------------------------------------------------------------------\n",
      "const         46.4508     16.300      2.850      0.007      13.579      79.322\n",
      "X              0.2876      0.024     12.236      0.000       0.240       0.335\n",
      "==============================================================================\n",
      "Omnibus:                        0.629   Durbin-Watson:                   1.998\n",
      "Prob(Omnibus):                  0.730   Jarque-Bera (JB):                0.745\n",
      "Skew:                          -0.228   Prob(JB):                        0.689\n",
      "Kurtosis:                       2.564   Cond. No.                     5.25e+03\n",
      "==============================================================================\n",
      "\n",
      "Warnings:\n",
      "[1] Standard Errors assume that the covariance matrix of the errors is correctly specified.\n",
      "[2] The condition number is large, 5.25e+03. This might indicate that there are\n",
      "strong multicollinearity or other numerical problems.\n",
      "Completed in 3672 iterations.\n",
      "[[244.15553995]\n",
      " [ 26.34297467]]\n"
     ]
    }
   ],
   "source": [
    "import pandas as pd\n",
    "import statsmodels.api as sm\n",
    "import numpy as np\n",
    "from sklearn import preprocessing\n",
    "\n",
    "nasal = pd.read_excel('kangaroo.xls')\n",
    "# nasal\n",
    "\n",
    "X = nasal.X\n",
    "X = sm.add_constant(X) # Adds constant/intercept term\n",
    "y = nasal.Y\n",
    "\n",
    "# print(X)\n",
    "\n",
    "lr_model = sm.OLS(y,X).fit()\n",
    "print(lr_model.summary())\n",
    "\n",
    "\n",
    "def grad_descent(X, y, alpha, epsilon):\n",
    "    # print(X)\n",
    "    iteration = [0]\n",
    "    i = 0\n",
    "    theta = np.ones(shape=(len(nasal.columns), 1))\n",
    "\n",
    "    X = X + np.array([1,0])\n",
    "\n",
    "    cost = [np.transpose(X @ theta - y) @ (X @ theta - y)]\n",
    "    delta = 1\n",
    "    while (delta>epsilon):\n",
    "        \n",
    "        theta = theta - alpha*((np.transpose(X)) @ (X @ theta - y))\n",
    "        cost_val = (np.transpose(X @ theta - y)) @ (X @ theta - y)\n",
    "        cost.append(cost_val)\n",
    "        # print(cost_val)\n",
    "        # print(cost[i+1])\n",
    "        delta = abs(cost[i+1]-cost[i])\n",
    "        if ((cost[i+1]-cost[i]) > 0):\n",
    "            print(\"The cost is increasing. Try reducing alpha.\")\n",
    "            break\n",
    "        iteration.append(i)\n",
    "        i += 1\n",
    "        \n",
    "    print(\"Completed in %d iterations.\" %(i))\n",
    "    return(theta, cost)\n",
    "\n",
    "# X = pd.concat((pd.DataFrame([1]*len(nasal)), nasal.X),axis=1, join='outer').to_numpy()\n",
    "y = y.to_numpy()\n",
    "\n",
    "y = np.expand_dims(y, axis=1)\n",
    "\n",
    "# print(X)\n",
    "\n",
    "theta, cost = grad_descent(X = preprocessing.scale(X), y=y, alpha=0.0001, epsilon = 10**-10)\n",
    "\n",
    "\n",
    "\n",
    "print (theta)"
   ]
  },
  {
   "cell_type": "markdown",
   "metadata": {
    "id": "8HjISTQZIUQ0"
   },
   "source": [
    "\n",
    "\n",
    "y = m0*1 + mx\n",
    "y = m0*1 + m1x1 + ... + mdxd\n",
    "\n",
    "\n",
    "y = transpose ([m0, m1, ..., md])  @ [1, x1, ..., xd]\n",
    "\n",
    "\n",
    "[1, x1, ..., xd]\n",
    "[1, x1, ..., xd]\n",
    "[1, x1, ..., xd]\n",
    "[1, x1, ..., xd]\n",
    "[1, x1, ..., xd]\n",
    "[1, x1, ..., xd]\n"
   ]
  },
  {
   "cell_type": "markdown",
   "metadata": {
    "id": "Ap76uex4mIp9"
   },
   "source": [
    "x = [x0, x1, x2] \n",
    "mean(x)\n",
    "std(x)\n",
    "(x0 - mean(x))/(std(x))\n"
   ]
  }
 ],
 "metadata": {
  "colab": {
   "name": "574_OH.ipynb",
   "provenance": []
  },
  "kernelspec": {
   "display_name": "Python 3",
   "language": "python",
   "name": "python3"
  },
  "language_info": {
   "codemirror_mode": {
    "name": "ipython",
    "version": 3
   },
   "file_extension": ".py",
   "mimetype": "text/x-python",
   "name": "python",
   "nbconvert_exporter": "python",
   "pygments_lexer": "ipython3",
   "version": "3.7.3"
  }
 },
 "nbformat": 4,
 "nbformat_minor": 1
}
