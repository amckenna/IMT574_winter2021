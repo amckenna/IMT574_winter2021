{
 "cells": [
  {
   "cell_type": "code",
   "execution_count": 1,
   "metadata": {},
   "outputs": [],
   "source": [
    "import pandas as pd\n",
    "\n",
    "from sklearn.model_selection import train_test_split\n",
    "from sklearn.tree import DecisionTreeClassifier\n",
    "from sklearn.metrics import accuracy_score, confusion_matrix\n",
    "from sklearn import tree\n",
    "# Applying random forest\n",
    "from sklearn.ensemble import RandomForestClassifier\n",
    "from sklearn import preprocessing\n",
    "\n",
    "# Visualize the decision tree\n",
    "import graphviz"
   ]
  },
  {
   "cell_type": "markdown",
   "metadata": {},
   "source": [
    "## 4.1\n",
    "\n",
    "Download a dataset about tipping this exercise, which is sourced from the study “The Effects of a Joke on Tipping When it is Delivered at the Same Time as the Bill,” by Nicholas Gueguen (2002). Can telling a joke affect whether or not a waiter in a coffee bar receives a tip from a customer?\n",
    "\n",
    "This study investigated this question at a coffee bar at a famous resort on the west coast of France. The waiter randomly assigned coffee-ordering customers to one of three groups: When receiving the bill one group also received a card telling a joke, another group received a card containing an advertisement for a local restaurant, and a third group received no card at all. He recorded whether or not each customer left a tip.\n",
    "The dataset contains the following variables:\n",
    "\n",
    "- Card: Type of card used: Ad, Joke, or None\n",
    "- Tip: 1=customer left a tip or 0=no tip\n",
    "- Ad: Indicator for Ad card\n",
    "- Joke: Indicator for Joke card\n",
    "- None: Indicator for no card\n",
    "\n",
    "Use a decision tree to determine whether the waiter will receive a tip from the customer from the predictor variables."
   ]
  },
  {
   "cell_type": "code",
   "execution_count": 2,
   "metadata": {},
   "outputs": [
    {
     "data": {
      "text/html": [
       "<div>\n",
       "<style scoped>\n",
       "    .dataframe tbody tr th:only-of-type {\n",
       "        vertical-align: middle;\n",
       "    }\n",
       "\n",
       "    .dataframe tbody tr th {\n",
       "        vertical-align: top;\n",
       "    }\n",
       "\n",
       "    .dataframe thead th {\n",
       "        text-align: right;\n",
       "    }\n",
       "</style>\n",
       "<table border=\"1\" class=\"dataframe\">\n",
       "  <thead>\n",
       "    <tr style=\"text-align: right;\">\n",
       "      <th></th>\n",
       "      <th>Card</th>\n",
       "      <th>Tip</th>\n",
       "      <th>Ad</th>\n",
       "      <th>Joke</th>\n",
       "      <th>None</th>\n",
       "    </tr>\n",
       "  </thead>\n",
       "  <tbody>\n",
       "    <tr>\n",
       "      <th>1</th>\n",
       "      <td>None</td>\n",
       "      <td>1</td>\n",
       "      <td>0</td>\n",
       "      <td>0</td>\n",
       "      <td>1</td>\n",
       "    </tr>\n",
       "    <tr>\n",
       "      <th>2</th>\n",
       "      <td>Joke</td>\n",
       "      <td>1</td>\n",
       "      <td>0</td>\n",
       "      <td>1</td>\n",
       "      <td>0</td>\n",
       "    </tr>\n",
       "    <tr>\n",
       "      <th>3</th>\n",
       "      <td>Ad</td>\n",
       "      <td>0</td>\n",
       "      <td>1</td>\n",
       "      <td>0</td>\n",
       "      <td>0</td>\n",
       "    </tr>\n",
       "  </tbody>\n",
       "</table>\n",
       "</div>"
      ],
      "text/plain": [
       "   Card  Tip  Ad  Joke  None\n",
       "1  None    1   0     0     1\n",
       "2  Joke    1   0     1     0\n",
       "3    Ad    0   1     0     0"
      ]
     },
     "execution_count": 2,
     "metadata": {},
     "output_type": "execute_result"
    }
   ],
   "source": [
    "df = pd.read_csv(\"./data/TipJoke.csv\", index_col= 0)\n",
    "df.head(3)"
   ]
  },
  {
   "cell_type": "code",
   "execution_count": 3,
   "metadata": {},
   "outputs": [
    {
     "name": "stdout",
     "output_type": "stream",
     "text": [
      "0.828125\n",
      "[[53  0]\n",
      " [11  0]]\n"
     ]
    },
    {
     "data": {
      "text/plain": [
       "'4_1.png'"
      ]
     },
     "execution_count": 3,
     "metadata": {},
     "output_type": "execute_result"
    }
   ],
   "source": [
    "# Creating X and Y\n",
    "X = df.iloc[:,2:5]\n",
    "y = df['Tip']\n",
    "\n",
    "# Making training and testing data\n",
    "X_train, X_test, y_train, y_test = train_test_split(X, y, test_size=0.30)\n",
    "\n",
    "# Creating the DTC and fitting the model\n",
    "dtree = DecisionTreeClassifier()\n",
    "dtree.fit(X_train,y_train)\n",
    "\n",
    "#Predicting on test data\n",
    "predictions = dtree.predict(X_test)\n",
    "\n",
    "#Printing the classification report and accuracy score\n",
    "print(accuracy_score(y_test,predictions))\n",
    "print(confusion_matrix(y_test,predictions))\n",
    "\n",
    "#Features to vizualize dtree\n",
    "features = list(df[['Ad','Joke','None']])\n",
    "\n",
    "# DOT data\n",
    "dot_data = tree.export_graphviz(dtree, out_file=None,\n",
    "                                feature_names=('Ad','Joke','None'),\n",
    "                                class_names=('0','1'),\n",
    "                                filled=True)\n",
    "\n",
    "dot_data\n",
    "# Draw graph\n",
    "graph = graphviz.Source(dot_data, format=\"png\") \n",
    "graph.render('4_1', view=True)"
   ]
  },
  {
   "cell_type": "markdown",
   "metadata": {},
   "source": [
    "## 4.2\n",
    "The dataset you are going to use for this exercise is about contact lenses, which has three class labels:\n",
    "\n",
    "- the patient should be prescribed hard contact lenses,\n",
    "- the patient should be prescribed soft contact lenses,\n",
    "- the patient should not be fitted with contact lenses,\n",
    "\n",
    "The attributes are the following:\n",
    "\n",
    "1. age of the patient: (1) young, (2) pre-presbyopic, (3) presbyopic\n",
    "2. spectacle prescription: (1) myope, (2) hypermetrope\n",
    "3. astigmatic: (1) no, (2) yes\n",
    "4. tear production rate: (1) reduced, (2) normal\n",
    "\n",
    "Build a decision tree-based classifier using about 80% of the data that would recommend the class label based on the other attributes from the dataset. Use the remaining data to manually test how well your model will classify new data."
   ]
  },
  {
   "cell_type": "code",
   "execution_count": 4,
   "metadata": {},
   "outputs": [
    {
     "data": {
      "text/html": [
       "<div>\n",
       "<style scoped>\n",
       "    .dataframe tbody tr th:only-of-type {\n",
       "        vertical-align: middle;\n",
       "    }\n",
       "\n",
       "    .dataframe tbody tr th {\n",
       "        vertical-align: top;\n",
       "    }\n",
       "\n",
       "    .dataframe thead th {\n",
       "        text-align: right;\n",
       "    }\n",
       "</style>\n",
       "<table border=\"1\" class=\"dataframe\">\n",
       "  <thead>\n",
       "    <tr style=\"text-align: right;\">\n",
       "      <th></th>\n",
       "      <th>X1.1</th>\n",
       "      <th>X1.2</th>\n",
       "      <th>X1.3</th>\n",
       "      <th>X1.4</th>\n",
       "      <th>X3</th>\n",
       "    </tr>\n",
       "  </thead>\n",
       "  <tbody>\n",
       "    <tr>\n",
       "      <th>0</th>\n",
       "      <td>1</td>\n",
       "      <td>1</td>\n",
       "      <td>1</td>\n",
       "      <td>1</td>\n",
       "      <td>3</td>\n",
       "    </tr>\n",
       "    <tr>\n",
       "      <th>1</th>\n",
       "      <td>1</td>\n",
       "      <td>1</td>\n",
       "      <td>1</td>\n",
       "      <td>2</td>\n",
       "      <td>2</td>\n",
       "    </tr>\n",
       "    <tr>\n",
       "      <th>2</th>\n",
       "      <td>1</td>\n",
       "      <td>1</td>\n",
       "      <td>2</td>\n",
       "      <td>1</td>\n",
       "      <td>3</td>\n",
       "    </tr>\n",
       "  </tbody>\n",
       "</table>\n",
       "</div>"
      ],
      "text/plain": [
       "   X1.1  X1.2  X1.3  X1.4  X3\n",
       "0     1     1     1     1   3\n",
       "1     1     1     1     2   2\n",
       "2     1     1     2     1   3"
      ]
     },
     "execution_count": 4,
     "metadata": {},
     "output_type": "execute_result"
    }
   ],
   "source": [
    "df = pd.read_excel(\"./data/lenses.xlsx\")\n",
    "df.head(3)"
   ]
  },
  {
   "cell_type": "code",
   "execution_count": 5,
   "metadata": {},
   "outputs": [
    {
     "name": "stdout",
     "output_type": "stream",
     "text": [
      "0.8\n",
      "[[0 1]\n",
      " [0 4]]\n"
     ]
    },
    {
     "data": {
      "text/plain": [
       "'4_2.png'"
      ]
     },
     "execution_count": 5,
     "metadata": {},
     "output_type": "execute_result"
    }
   ],
   "source": [
    "# Creating X and Y\n",
    "X = df.iloc[:,:-1]\n",
    "y = df.iloc[:,-1]\n",
    "\n",
    "# Making training and testing data\n",
    "X_train, X_test, y_train, y_test = train_test_split(X, y, test_size=0.2)\n",
    "\n",
    "# Creating the DTC and fitting the model\n",
    "dtree = DecisionTreeClassifier()\n",
    "dtree.fit(X_train,y_train)\n",
    "\n",
    "#Predicting on test data\n",
    "predictions = dtree.predict(X_test)\n",
    "\n",
    "#Printing the classification report and accuracy score\n",
    "print(accuracy_score(y_test,predictions))\n",
    "print(confusion_matrix(y_test,predictions))\n",
    "\n",
    "#Features to vizualize dtree\n",
    "features = list(df[[\"X1.1\",\"X1.2\",\"X1.3\",\"X1.4\"]])\n",
    "\n",
    "# DOT data\n",
    "dot_data = tree.export_graphviz(dtree, out_file=None,\n",
    "                                feature_names=(\"X1.1\",\"X1.2\",\"X1.3\",\"X1.4\"),\n",
    "                                class_names=('1','2', '3'),\n",
    "                                filled=True)\n",
    "\n",
    "dot_data\n",
    "# Draw graph\n",
    "graph = graphviz.Source(dot_data, format=\"png\") \n",
    "graph.render('4_2', view=True)"
   ]
  },
  {
   "cell_type": "markdown",
   "metadata": {},
   "source": [
    "## 4.3\n",
    "Download the balloons dataset (Links to an external site.). It has four attributes: color, size, act, age, and one class label, inflated (True or False). Use decision tree algorithm to learn how to predict if the balloon is inflated or not using the features available. Make sure to do appropriate split of the data for training-testing.\n",
    "\n",
    "Try doing this using at least two different subsets of the features. What differences do you find in the nature of the tree as well as the accuracy for classification you can achieve?"
   ]
  },
  {
   "cell_type": "code",
   "execution_count": 6,
   "metadata": {},
   "outputs": [
    {
     "data": {
      "text/html": [
       "<div>\n",
       "<style scoped>\n",
       "    .dataframe tbody tr th:only-of-type {\n",
       "        vertical-align: middle;\n",
       "    }\n",
       "\n",
       "    .dataframe tbody tr th {\n",
       "        vertical-align: top;\n",
       "    }\n",
       "\n",
       "    .dataframe thead th {\n",
       "        text-align: right;\n",
       "    }\n",
       "</style>\n",
       "<table border=\"1\" class=\"dataframe\">\n",
       "  <thead>\n",
       "    <tr style=\"text-align: right;\">\n",
       "      <th></th>\n",
       "      <th>color</th>\n",
       "      <th>size</th>\n",
       "      <th>act</th>\n",
       "      <th>age</th>\n",
       "      <th>label</th>\n",
       "    </tr>\n",
       "  </thead>\n",
       "  <tbody>\n",
       "    <tr>\n",
       "      <th>0</th>\n",
       "      <td>YELLOW</td>\n",
       "      <td>SMALL</td>\n",
       "      <td>STRETCH</td>\n",
       "      <td>ADULT</td>\n",
       "      <td>T</td>\n",
       "    </tr>\n",
       "    <tr>\n",
       "      <th>1</th>\n",
       "      <td>YELLOW</td>\n",
       "      <td>SMALL</td>\n",
       "      <td>STRETCH</td>\n",
       "      <td>ADULT</td>\n",
       "      <td>T</td>\n",
       "    </tr>\n",
       "    <tr>\n",
       "      <th>2</th>\n",
       "      <td>YELLOW</td>\n",
       "      <td>SMALL</td>\n",
       "      <td>STRETCH</td>\n",
       "      <td>CHILD</td>\n",
       "      <td>F</td>\n",
       "    </tr>\n",
       "    <tr>\n",
       "      <th>3</th>\n",
       "      <td>YELLOW</td>\n",
       "      <td>SMALL</td>\n",
       "      <td>DIP</td>\n",
       "      <td>ADULT</td>\n",
       "      <td>F</td>\n",
       "    </tr>\n",
       "    <tr>\n",
       "      <th>4</th>\n",
       "      <td>YELLOW</td>\n",
       "      <td>SMALL</td>\n",
       "      <td>DIP</td>\n",
       "      <td>CHILD</td>\n",
       "      <td>F</td>\n",
       "    </tr>\n",
       "  </tbody>\n",
       "</table>\n",
       "</div>"
      ],
      "text/plain": [
       "    color   size      act    age label\n",
       "0  YELLOW  SMALL  STRETCH  ADULT     T\n",
       "1  YELLOW  SMALL  STRETCH  ADULT     T\n",
       "2  YELLOW  SMALL  STRETCH  CHILD     F\n",
       "3  YELLOW  SMALL      DIP  ADULT     F\n",
       "4  YELLOW  SMALL      DIP  CHILD     F"
      ]
     },
     "execution_count": 6,
     "metadata": {},
     "output_type": "execute_result"
    }
   ],
   "source": [
    "columns = [\"color\", \"size\", \"act\", \"age\", \"label\"]\n",
    "df = pd.read_csv(\"./data/adult+stretch.data\", header = None, names = columns)\n",
    "df.head()"
   ]
  },
  {
   "cell_type": "code",
   "execution_count": 7,
   "metadata": {},
   "outputs": [],
   "source": [
    "#creating labelEncoder\n",
    "le = preprocessing.LabelEncoder()\n",
    "# Converting string labels into numbers.\n",
    "df[\"color\"] = le.fit_transform(df[\"color\"])\n",
    "df[\"size\"] = le.fit_transform(df[\"size\"])\n",
    "df[\"act\"] = le.fit_transform(df[\"act\"])\n",
    "df[\"age\"] = le.fit_transform(df[\"age\"])"
   ]
  },
  {
   "cell_type": "code",
   "execution_count": 8,
   "metadata": {},
   "outputs": [
    {
     "name": "stdout",
     "output_type": "stream",
     "text": [
      "1.0\n",
      "[[4 0]\n",
      " [0 2]]\n"
     ]
    },
    {
     "data": {
      "text/plain": [
       "'4_3_1.png'"
      ]
     },
     "execution_count": 8,
     "metadata": {},
     "output_type": "execute_result"
    }
   ],
   "source": [
    "# subset 1 \n",
    "# Creating X and Y\n",
    "X = df.iloc[:,1:4]\n",
    "y = df.iloc[:,-1]\n",
    "\n",
    "# Making training and testing data\n",
    "X_train, X_test, y_train, y_test = train_test_split(X, y, test_size=0.3)\n",
    "\n",
    "# Creating the DTC and fitting the model\n",
    "dtree = DecisionTreeClassifier()\n",
    "dtree.fit(X_train,y_train)\n",
    "\n",
    "#Predicting on test data\n",
    "predictions = dtree.predict(X_test)\n",
    "\n",
    "#Printing the classification report and accuracy score\n",
    "print(accuracy_score(y_test,predictions))\n",
    "print(confusion_matrix(y_test,predictions))\n",
    "\n",
    "#Features to vizualize dtree\n",
    "features = list(df[[\"size\",\"act\",\"age\"]])\n",
    "\n",
    "# DOT data\n",
    "dot_data = tree.export_graphviz(dtree, out_file=None,\n",
    "                                feature_names=(\"size\",\"act\",\"age\"),\n",
    "                                class_names=('T','F'),\n",
    "                                filled=True)\n",
    "\n",
    "dot_data\n",
    "# Draw graph\n",
    "graph = graphviz.Source(dot_data, format=\"png\") \n",
    "graph.render('4_3_1', view=True)"
   ]
  },
  {
   "cell_type": "code",
   "execution_count": 9,
   "metadata": {},
   "outputs": [
    {
     "name": "stdout",
     "output_type": "stream",
     "text": [
      "0.5\n",
      "[[3 2]\n",
      " [1 0]]\n"
     ]
    },
    {
     "data": {
      "text/plain": [
       "'4_3_2.png'"
      ]
     },
     "execution_count": 9,
     "metadata": {},
     "output_type": "execute_result"
    }
   ],
   "source": [
    "# subset 2 \n",
    "# Creating X and Y\n",
    "X = df.iloc[:,0:3]\n",
    "y = df.iloc[:,-1]\n",
    "\n",
    "# Making training and testing data\n",
    "X_train, X_test, y_train, y_test = train_test_split(X, y, test_size=0.3)\n",
    "\n",
    "# Creating the DTC and fitting the model\n",
    "dtree = DecisionTreeClassifier()\n",
    "dtree.fit(X_train,y_train)\n",
    "\n",
    "#Predicting on test data\n",
    "predictions = dtree.predict(X_test)\n",
    "\n",
    "#Printing the classification report and accuracy score\n",
    "print(accuracy_score(y_test,predictions))\n",
    "print(confusion_matrix(y_test,predictions))\n",
    "\n",
    "#Features to vizualize dtree\n",
    "features = list(df[[\"color\", \"size\",\"act\"]])\n",
    "\n",
    "# DOT data\n",
    "dot_data = tree.export_graphviz(dtree, out_file=None,\n",
    "                                feature_names=(\"color\", \"size\",\"act\"),\n",
    "                                class_names=('T','F'),\n",
    "                                filled=True)\n",
    "\n",
    "dot_data\n",
    "# Draw graph\n",
    "graph = graphviz.Source(dot_data, format=\"png\") \n",
    "graph.render('4_3_2', view=True)"
   ]
  },
  {
   "cell_type": "markdown",
   "metadata": {},
   "source": [
    "## 4.4\n",
    "Take any of the problems from before -- one where we used logistic regression or kNN and try it with decision tree and random forest algorithms now. Compare and contrast these algorithms."
   ]
  },
  {
   "cell_type": "code",
   "execution_count": 10,
   "metadata": {},
   "outputs": [
    {
     "data": {
      "text/html": [
       "<div>\n",
       "<style scoped>\n",
       "    .dataframe tbody tr th:only-of-type {\n",
       "        vertical-align: middle;\n",
       "    }\n",
       "\n",
       "    .dataframe tbody tr th {\n",
       "        vertical-align: top;\n",
       "    }\n",
       "\n",
       "    .dataframe thead th {\n",
       "        text-align: right;\n",
       "    }\n",
       "</style>\n",
       "<table border=\"1\" class=\"dataframe\">\n",
       "  <thead>\n",
       "    <tr style=\"text-align: right;\">\n",
       "      <th></th>\n",
       "      <th>id</th>\n",
       "      <th>female</th>\n",
       "      <th>ses</th>\n",
       "      <th>schtyp</th>\n",
       "      <th>prog</th>\n",
       "      <th>read</th>\n",
       "      <th>write</th>\n",
       "      <th>math</th>\n",
       "      <th>science</th>\n",
       "      <th>socst</th>\n",
       "      <th>honors</th>\n",
       "      <th>awards</th>\n",
       "      <th>cid</th>\n",
       "    </tr>\n",
       "  </thead>\n",
       "  <tbody>\n",
       "    <tr>\n",
       "      <th>1</th>\n",
       "      <td>45</td>\n",
       "      <td>female</td>\n",
       "      <td>low</td>\n",
       "      <td>public</td>\n",
       "      <td>vocation</td>\n",
       "      <td>34</td>\n",
       "      <td>35</td>\n",
       "      <td>41</td>\n",
       "      <td>29</td>\n",
       "      <td>26</td>\n",
       "      <td>not enrolled</td>\n",
       "      <td>0</td>\n",
       "      <td>1</td>\n",
       "    </tr>\n",
       "    <tr>\n",
       "      <th>2</th>\n",
       "      <td>108</td>\n",
       "      <td>male</td>\n",
       "      <td>middle</td>\n",
       "      <td>public</td>\n",
       "      <td>general</td>\n",
       "      <td>34</td>\n",
       "      <td>33</td>\n",
       "      <td>41</td>\n",
       "      <td>36</td>\n",
       "      <td>36</td>\n",
       "      <td>not enrolled</td>\n",
       "      <td>0</td>\n",
       "      <td>1</td>\n",
       "    </tr>\n",
       "    <tr>\n",
       "      <th>3</th>\n",
       "      <td>15</td>\n",
       "      <td>male</td>\n",
       "      <td>high</td>\n",
       "      <td>public</td>\n",
       "      <td>vocation</td>\n",
       "      <td>39</td>\n",
       "      <td>39</td>\n",
       "      <td>44</td>\n",
       "      <td>26</td>\n",
       "      <td>42</td>\n",
       "      <td>not enrolled</td>\n",
       "      <td>0</td>\n",
       "      <td>1</td>\n",
       "    </tr>\n",
       "  </tbody>\n",
       "</table>\n",
       "</div>"
      ],
      "text/plain": [
       "    id  female     ses  schtyp      prog  read  write  math  science  socst  \\\n",
       "1   45  female     low  public  vocation    34     35    41       29     26   \n",
       "2  108    male  middle  public   general    34     33    41       36     36   \n",
       "3   15    male    high  public  vocation    39     39    44       26     42   \n",
       "\n",
       "         honors  awards  cid  \n",
       "1  not enrolled       0    1  \n",
       "2  not enrolled       0    1  \n",
       "3  not enrolled       0    1  "
      ]
     },
     "execution_count": 10,
     "metadata": {},
     "output_type": "execute_result"
    }
   ],
   "source": [
    "df = pd.read_csv(\"./data/hsbdemo.csv\", index_col= 0)\n",
    "df.head(3)"
   ]
  },
  {
   "cell_type": "code",
   "execution_count": 11,
   "metadata": {},
   "outputs": [],
   "source": [
    "X = df.iloc[:,5:9]\n",
    "y = df[\"prog\"]\n",
    "\n",
    "#Creating X and Y for training and testing\n",
    "X_train, X_test, y_train, y_test = train_test_split(X, y, test_size=0.30)"
   ]
  },
  {
   "cell_type": "code",
   "execution_count": 14,
   "metadata": {},
   "outputs": [
    {
     "name": "stdout",
     "output_type": "stream",
     "text": [
      "0.55\n",
      "[[17  1  6]\n",
      " [ 8  5  3]\n",
      " [ 5  4 11]]\n"
     ]
    }
   ],
   "source": [
    "# Creating the DTC and fitting the model\n",
    "dtree = DecisionTreeClassifier()\n",
    "dtree.fit(X_train,y_train)\n",
    "\n",
    "#Predicting on test data\n",
    "predictions = dtree.predict(X_test)\n",
    "\n",
    "#Printing the classification report and accuracy score\n",
    "print(accuracy_score(y_test,predictions))\n",
    "print(confusion_matrix(y_test,predictions))\n",
    "\n",
    "#Features to vizualize dtree\n",
    "features = list(df[[\"read\",\"write\",\"math\",\"science\"]])\n",
    "\n",
    "# DOT data\n",
    "dot_data = tree.export_graphviz(dtree, out_file=None,\n",
    "                                feature_names=(\"read\",\"write\",\"math\",\"science\"),\n",
    "                                class_names=(\"academic\", \"general\", \"vocation\"),\n",
    "                                filled=True)\n",
    "\n",
    "dot_data\n",
    "# Draw graph\n",
    "graph = graphviz.Source(dot_data, format=\"png\") \n",
    "graph.render('4_4', view=True)"
   ]
  },
  {
   "cell_type": "code",
   "execution_count": 13,
   "metadata": {},
   "outputs": [
    {
     "name": "stdout",
     "output_type": "stream",
     "text": [
      "Accuracy: 0.5333333333333333\n",
      "[[21  2  1]\n",
      " [12  1  3]\n",
      " [ 8  2 10]]\n"
     ]
    }
   ],
   "source": [
    "rfc = RandomForestClassifier(n_estimators=100)\n",
    "# y_train is a column vector, but 1d array is expected. Therefore, we need to\n",
    "# change the shape to (n_samples,)\n",
    "rfc.fit(X_train, y_train.values.ravel())\n",
    "\n",
    "predictions = rfc.predict(X_test)\n",
    "print(\"Accuracy:\", accuracy_score(y_test, predictions))\n",
    "print(confusion_matrix(y_test,predictions))"
   ]
  }
 ],
 "metadata": {
  "kernelspec": {
   "display_name": "Python 3",
   "language": "python",
   "name": "python3"
  },
  "language_info": {
   "codemirror_mode": {
    "name": "ipython",
    "version": 3
   },
   "file_extension": ".py",
   "mimetype": "text/x-python",
   "name": "python",
   "nbconvert_exporter": "python",
   "pygments_lexer": "ipython3",
   "version": "3.7.3"
  }
 },
 "nbformat": 4,
 "nbformat_minor": 4
}
