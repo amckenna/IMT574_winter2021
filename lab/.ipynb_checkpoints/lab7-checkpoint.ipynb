{
 "cells": [
  {
   "cell_type": "markdown",
   "metadata": {},
   "source": [
    "Obtain this dataset(in Excel) that contains information about users' domain knowledge. There are five variables that you can think of as attributes of a user, and one categorical variable that you can think of as a class label for that user. The original study details are in the following paper.\n",
    "\n",
    "H. T. Kahraman, Sagiroglu, S., Colak, I., Developing intuitive knowledge classifier and modeling of users' domain dependent data in web, Knowledge Based Systems, vol. 37, pp. 283-295, 2013.\n",
    "\n",
    "Ignore the class label variable and focus on the five attributes. Using these attributes, cluster the users with k-means as well as EM. Provide your observations and comparisons. Now assuming that you can use these clusters for labeling the datapoints, report your classification accuracy with respect to the truth data available in that last column. Do this for both k-means and EM, allowing you to compare them for their clustering accuracy."
   ]
  },
  {
   "cell_type": "code",
   "execution_count": 27,
   "metadata": {},
   "outputs": [],
   "source": [
    "import os, glob\n",
    "\n",
    "import numpy as np\n",
    "import pandas as pd\n",
    "\n",
    "from sklearn.mixture import GaussianMixture\n",
    "from sklearn.cluster import KMeans\n",
    "\n",
    "from collections import Counter"
   ]
  },
  {
   "cell_type": "code",
   "execution_count": 2,
   "metadata": {},
   "outputs": [
    {
     "data": {
      "text/html": [
       "<div>\n",
       "<style scoped>\n",
       "    .dataframe tbody tr th:only-of-type {\n",
       "        vertical-align: middle;\n",
       "    }\n",
       "\n",
       "    .dataframe tbody tr th {\n",
       "        vertical-align: top;\n",
       "    }\n",
       "\n",
       "    .dataframe thead th {\n",
       "        text-align: right;\n",
       "    }\n",
       "</style>\n",
       "<table border=\"1\" class=\"dataframe\">\n",
       "  <thead>\n",
       "    <tr style=\"text-align: right;\">\n",
       "      <th></th>\n",
       "      <th>STG</th>\n",
       "      <th>SCG</th>\n",
       "      <th>STR</th>\n",
       "      <th>LPR</th>\n",
       "      <th>PEG</th>\n",
       "      <th>UNS</th>\n",
       "    </tr>\n",
       "  </thead>\n",
       "  <tbody>\n",
       "    <tr>\n",
       "      <th>0</th>\n",
       "      <td>0.00</td>\n",
       "      <td>0.00</td>\n",
       "      <td>0.00</td>\n",
       "      <td>0.00</td>\n",
       "      <td>0.00</td>\n",
       "      <td>very_low</td>\n",
       "    </tr>\n",
       "    <tr>\n",
       "      <th>1</th>\n",
       "      <td>0.08</td>\n",
       "      <td>0.08</td>\n",
       "      <td>0.10</td>\n",
       "      <td>0.24</td>\n",
       "      <td>0.90</td>\n",
       "      <td>High</td>\n",
       "    </tr>\n",
       "    <tr>\n",
       "      <th>2</th>\n",
       "      <td>0.06</td>\n",
       "      <td>0.06</td>\n",
       "      <td>0.05</td>\n",
       "      <td>0.25</td>\n",
       "      <td>0.33</td>\n",
       "      <td>Low</td>\n",
       "    </tr>\n",
       "  </tbody>\n",
       "</table>\n",
       "</div>"
      ],
      "text/plain": [
       "    STG   SCG   STR   LPR   PEG       UNS\n",
       "0  0.00  0.00  0.00  0.00  0.00  very_low\n",
       "1  0.08  0.08  0.10  0.24  0.90      High\n",
       "2  0.06  0.06  0.05  0.25  0.33       Low"
      ]
     },
     "execution_count": 2,
     "metadata": {},
     "output_type": "execute_result"
    }
   ],
   "source": [
    "df = pd.read_excel(\"./data/Data_User_Modeling_Dataset_Hamdi Tolga KAHRAMAN.xls\", \n",
    "                   sheet_name =\"Training_Data\", usecols = ('A:F'))\n",
    "df.head(3)"
   ]
  },
  {
   "cell_type": "code",
   "execution_count": 3,
   "metadata": {},
   "outputs": [
    {
     "data": {
      "text/plain": [
       " UNS\n",
       "High        63\n",
       "Low         83\n",
       "Middle      88\n",
       "very_low    24\n",
       "Name:  UNS, dtype: int64"
      ]
     },
     "execution_count": 3,
     "metadata": {},
     "output_type": "execute_result"
    }
   ],
   "source": [
    "df[\" UNS\"].groupby(df[' UNS']).count()"
   ]
  },
  {
   "cell_type": "code",
   "execution_count": 5,
   "metadata": {},
   "outputs": [
    {
     "data": {
      "text/html": [
       "<div>\n",
       "<style scoped>\n",
       "    .dataframe tbody tr th:only-of-type {\n",
       "        vertical-align: middle;\n",
       "    }\n",
       "\n",
       "    .dataframe tbody tr th {\n",
       "        vertical-align: top;\n",
       "    }\n",
       "\n",
       "    .dataframe thead th {\n",
       "        text-align: right;\n",
       "    }\n",
       "</style>\n",
       "<table border=\"1\" class=\"dataframe\">\n",
       "  <thead>\n",
       "    <tr style=\"text-align: right;\">\n",
       "      <th></th>\n",
       "      <th>STG</th>\n",
       "      <th>SCG</th>\n",
       "      <th>STR</th>\n",
       "      <th>LPR</th>\n",
       "      <th>PEG</th>\n",
       "    </tr>\n",
       "  </thead>\n",
       "  <tbody>\n",
       "    <tr>\n",
       "      <th>0</th>\n",
       "      <td>0.00</td>\n",
       "      <td>0.00</td>\n",
       "      <td>0.00</td>\n",
       "      <td>0.00</td>\n",
       "      <td>0.00</td>\n",
       "    </tr>\n",
       "    <tr>\n",
       "      <th>1</th>\n",
       "      <td>0.08</td>\n",
       "      <td>0.08</td>\n",
       "      <td>0.10</td>\n",
       "      <td>0.24</td>\n",
       "      <td>0.90</td>\n",
       "    </tr>\n",
       "    <tr>\n",
       "      <th>2</th>\n",
       "      <td>0.06</td>\n",
       "      <td>0.06</td>\n",
       "      <td>0.05</td>\n",
       "      <td>0.25</td>\n",
       "      <td>0.33</td>\n",
       "    </tr>\n",
       "    <tr>\n",
       "      <th>3</th>\n",
       "      <td>0.10</td>\n",
       "      <td>0.10</td>\n",
       "      <td>0.15</td>\n",
       "      <td>0.65</td>\n",
       "      <td>0.30</td>\n",
       "    </tr>\n",
       "    <tr>\n",
       "      <th>4</th>\n",
       "      <td>0.08</td>\n",
       "      <td>0.08</td>\n",
       "      <td>0.08</td>\n",
       "      <td>0.98</td>\n",
       "      <td>0.24</td>\n",
       "    </tr>\n",
       "    <tr>\n",
       "      <th>...</th>\n",
       "      <td>...</td>\n",
       "      <td>...</td>\n",
       "      <td>...</td>\n",
       "      <td>...</td>\n",
       "      <td>...</td>\n",
       "    </tr>\n",
       "    <tr>\n",
       "      <th>253</th>\n",
       "      <td>0.61</td>\n",
       "      <td>0.78</td>\n",
       "      <td>0.69</td>\n",
       "      <td>0.92</td>\n",
       "      <td>0.58</td>\n",
       "    </tr>\n",
       "    <tr>\n",
       "      <th>254</th>\n",
       "      <td>0.78</td>\n",
       "      <td>0.61</td>\n",
       "      <td>0.71</td>\n",
       "      <td>0.19</td>\n",
       "      <td>0.60</td>\n",
       "    </tr>\n",
       "    <tr>\n",
       "      <th>255</th>\n",
       "      <td>0.54</td>\n",
       "      <td>0.82</td>\n",
       "      <td>0.71</td>\n",
       "      <td>0.29</td>\n",
       "      <td>0.77</td>\n",
       "    </tr>\n",
       "    <tr>\n",
       "      <th>256</th>\n",
       "      <td>0.50</td>\n",
       "      <td>0.75</td>\n",
       "      <td>0.81</td>\n",
       "      <td>0.61</td>\n",
       "      <td>0.26</td>\n",
       "    </tr>\n",
       "    <tr>\n",
       "      <th>257</th>\n",
       "      <td>0.66</td>\n",
       "      <td>0.90</td>\n",
       "      <td>0.76</td>\n",
       "      <td>0.87</td>\n",
       "      <td>0.74</td>\n",
       "    </tr>\n",
       "  </tbody>\n",
       "</table>\n",
       "<p>258 rows × 5 columns</p>\n",
       "</div>"
      ],
      "text/plain": [
       "      STG   SCG   STR   LPR   PEG\n",
       "0    0.00  0.00  0.00  0.00  0.00\n",
       "1    0.08  0.08  0.10  0.24  0.90\n",
       "2    0.06  0.06  0.05  0.25  0.33\n",
       "3    0.10  0.10  0.15  0.65  0.30\n",
       "4    0.08  0.08  0.08  0.98  0.24\n",
       "..    ...   ...   ...   ...   ...\n",
       "253  0.61  0.78  0.69  0.92  0.58\n",
       "254  0.78  0.61  0.71  0.19  0.60\n",
       "255  0.54  0.82  0.71  0.29  0.77\n",
       "256  0.50  0.75  0.81  0.61  0.26\n",
       "257  0.66  0.90  0.76  0.87  0.74\n",
       "\n",
       "[258 rows x 5 columns]"
      ]
     },
     "execution_count": 5,
     "metadata": {},
     "output_type": "execute_result"
    }
   ],
   "source": [
    "df.iloc[:, 0:5]"
   ]
  },
  {
   "cell_type": "code",
   "execution_count": 15,
   "metadata": {},
   "outputs": [
    {
     "name": "stdout",
     "output_type": "stream",
     "text": [
      "[1 0 1 2 2 0 0 2 2 0 0 2 2 0 0 0 2 1 1 1 2 0 0 2 2 0 2 2 2 0 0 2 2 0 0 1 1\n",
      " 1 2 1 2 0 0 2 2 0 0 0 2 0 1 1 1 0 0 1 1 0 0 3 3 0 0 3 1 1 1 1 1 3 0 0 2 0\n",
      " 0 2 2 2 2 2 2 0 0 3 2 2 0 2 2 0 0 2 2 2 0 3 2 0 0 1 3 0 0 3 2 0 0 2 2 0 2\n",
      " 2 2 0 0 1 3 1 0 0 3 1 0 0 0 1 0 0 3 1 1 0 2 2 3 2 2 2 3 2 2 2 3 2 2 2 1 2\n",
      " 3 1 0 2 2 2 3 2 2 2 3 2 3 2 0 0 1 0 0 0 3 0 2 3 2 2 3 2 3 2 0 0 3 1 0 1 3\n",
      " 1 0 0 3 1 0 0 0 1 3 2 2 2 3 2 2 2 2 2 2 2 3 3 2 2 3 3 1 2 3 2 3 2 3 2 2 2\n",
      " 3 2 3 2 3 1 1 1 3 2 3 1 3 2 3 2 3 3 3 2 3 1 1 1 3 1 1 1 3 3 3 1 3 0 3 1]\n"
     ]
    }
   ],
   "source": [
    "# EM\n",
    "model = GaussianMixture(n_components=4, init_params='random', max_iter=50)\n",
    "model.fit(df.iloc[:, 0:5])\n",
    "# Let's extract cluster labels\n",
    "yhat_EM = model.predict(df.iloc[:, 0:5])\n",
    "print(yhat_EM)"
   ]
  },
  {
   "cell_type": "code",
   "execution_count": 40,
   "metadata": {},
   "outputs": [
    {
     "name": "stdout",
     "output_type": "stream",
     "text": [
      "# groups: 4\n",
      "[[0.6074     0.4277     0.508      0.79633333 0.658     ]\n",
      " [0.36701923 0.38473077 0.51264423 0.24451923 0.67579808]\n",
      " [0.32658491 0.30654717 0.67018868 0.52679245 0.22226415]\n",
      " [0.3106338  0.31935211 0.23478873 0.48450704 0.23239437]]\n",
      "[3 1 3 3 3 1 1 3 3 1 1 2 2 1 1 1 2 3 3 3 3 1 1 3 3 1 2 2 0 1 1 2 2 1 1 3 3\n",
      " 3 3 3 3 1 1 2 2 1 1 1 0 1 3 3 3 1 1 3 3 1 1 2 2 1 1 2 2 3 3 3 3 1 1 1 3 1\n",
      " 1 2 2 2 2 2 2 1 1 3 3 3 1 3 3 1 1 2 2 2 1 2 2 1 1 3 3 1 1 3 3 1 1 1 2 1 2\n",
      " 2 0 1 1 3 3 0 1 1 3 3 1 1 1 0 1 2 2 2 3 1 3 0 1 1 3 3 1 2 2 2 1 2 2 0 3 3\n",
      " 3 0 1 3 3 3 1 1 1 0 1 1 2 2 1 1 3 1 1 1 3 1 1 1 1 2 1 2 2 0 1 1 3 0 1 3 3\n",
      " 3 1 1 2 0 1 1 1 0 1 3 3 3 1 3 3 0 2 2 0 2 1 1 2 0 1 3 0 0 1 3 3 0 1 2 2 0\n",
      " 1 1 2 0 1 3 0 0 1 3 3 0 1 2 2 1 1 1 2 0 1 3 3 0 1 3 0 0 1 1 2 0 1 1 2 0]\n"
     ]
    }
   ],
   "source": [
    "## model : kmean\n",
    "X = df.iloc[:,0:5]\n",
    "num_group = 4\n",
    "print(\"# groups:\", num_group)\n",
    "#scaler = preprocessing.StandardScaler()\n",
    "#scaler.fit_transform(X)\n",
    "\n",
    "kmeans = KMeans(n_clusters=num_group)\n",
    "\n",
    "# Fitting the model\n",
    "yhat_kmeans = kmeans.fit_predict(X)\n",
    "centroids = kmeans.cluster_centers_\n",
    "print(centroids)\n",
    "print(yhat_kmeans)"
   ]
  },
  {
   "cell_type": "markdown",
   "metadata": {},
   "source": [
    "### report classification accuracy"
   ]
  },
  {
   "cell_type": "code",
   "execution_count": 39,
   "metadata": {},
   "outputs": [
    {
     "data": {
      "text/plain": [
       "[(1, 75), (2, 73), (0, 60), (3, 50)]"
      ]
     },
     "execution_count": 39,
     "metadata": {},
     "output_type": "execute_result"
    }
   ],
   "source": [
    "pred_kmeans = sorted(Counter(yhat_kmeans).items(), key=lambda x: x[1], reverse=True)\n",
    "pred_kmeans"
   ]
  },
  {
   "cell_type": "code",
   "execution_count": 32,
   "metadata": {},
   "outputs": [
    {
     "data": {
      "text/plain": [
       "[(2, 90), (0, 70), (3, 51), (1, 47)]"
      ]
     },
     "execution_count": 32,
     "metadata": {},
     "output_type": "execute_result"
    }
   ],
   "source": [
    "pred_EM = sorted(Counter(yhat_EM).items(), key=lambda x: x[1], reverse=True)\n",
    "pred_EM"
   ]
  },
  {
   "cell_type": "code",
   "execution_count": 26,
   "metadata": {},
   "outputs": [
    {
     "data": {
      "text/plain": [
       "[('Middle', 88), ('Low', 83), ('High', 63), ('very_low', 24)]"
      ]
     },
     "execution_count": 26,
     "metadata": {},
     "output_type": "execute_result"
    }
   ],
   "source": [
    "truth = sorted(Counter(df[\" UNS\"]).items(), key=lambda x: x[1], reverse=True)\n",
    "truth"
   ]
  },
  {
   "cell_type": "code",
   "execution_count": 37,
   "metadata": {},
   "outputs": [
    {
     "name": "stdout",
     "output_type": "stream",
     "text": [
      "('Middle', 88) (1, 75)\n",
      "('Low', 83) (2, 73)\n",
      "('High', 63) (0, 60)\n",
      "('very_low', 24) (3, 50)\n",
      "classification accuracy for Kmeans: 0.899\n"
     ]
    }
   ],
   "source": [
    "acc_count = 0\n",
    "for i in range(4):\n",
    "    print(truth[i], pred_kmeans[i])\n",
    "    if truth[i][1] >= pred_kmeans[i][1]:\n",
    "        acc_count += pred_kmeans[i][1]\n",
    "    else:\n",
    "        acc_count += truth[i][1]\n",
    "accuracy = round(acc_count/len(df), 3)\n",
    "print(\"classification accuracy for Kmeans:\", accuracy)"
   ]
  },
  {
   "cell_type": "code",
   "execution_count": 38,
   "metadata": {},
   "outputs": [
    {
     "name": "stdout",
     "output_type": "stream",
     "text": [
      "('Middle', 88) (2, 90)\n",
      "('Low', 83) (0, 70)\n",
      "('High', 63) (3, 51)\n",
      "('very_low', 24) (1, 47)\n",
      "classification accuracy for EM: 0.903\n"
     ]
    }
   ],
   "source": [
    "acc_count = 0\n",
    "for i in range(4):\n",
    "    print(truth[i], pred_EM[i])\n",
    "    if truth[i][1] >= pred_EM[i][1]:\n",
    "        acc_count += pred_EM[i][1]\n",
    "    else:\n",
    "        acc_count += truth[i][1]\n",
    "accuracy = round(acc_count/len(df), 3)\n",
    "print(\"classification accuracy for EM:\", accuracy)"
   ]
  }
 ],
 "metadata": {
  "kernelspec": {
   "display_name": "Python 3",
   "language": "python",
   "name": "python3"
  },
  "language_info": {
   "codemirror_mode": {
    "name": "ipython",
    "version": 3
   },
   "file_extension": ".py",
   "mimetype": "text/x-python",
   "name": "python",
   "nbconvert_exporter": "python",
   "pygments_lexer": "ipython3",
   "version": "3.7.3"
  }
 },
 "nbformat": 4,
 "nbformat_minor": 4
}
