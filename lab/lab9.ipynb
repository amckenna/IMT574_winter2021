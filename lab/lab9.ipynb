{
 "cells": [
  {
   "cell_type": "markdown",
   "metadata": {},
   "source": [
    "We will use this dataset that contains Customer Id, Surname, Credit Score, Geography, Gender, Age, Tenure, Balance, Num of Products they use from the bank such as credit card or loan, etc, Has Credit card or not (1 means yes 0 means no), Is Active Member (the customer is using the bank or not), and estimated salary. The last column is the dependent variable - has customer exited or not from the bank in the future (1 means the customer has exited the bank and 0 means the customer has stayed with the bank). The bank wants to use this data to see if they can predict if a new customer will stay with the bank or not. Build a classifier using neural networks. Make appropriate design decisions for its architecture."
   ]
  },
  {
   "cell_type": "code",
   "execution_count": 1,
   "metadata": {},
   "outputs": [],
   "source": [
    "import pandas as pd\n",
    "import numpy as np\n",
    "\n",
    "from sklearn.preprocessing import LabelEncoder, OneHotEncoder\n",
    "from sklearn.compose import ColumnTransformer\n",
    "from sklearn.model_selection import train_test_split\n",
    "from sklearn.preprocessing import StandardScaler\n",
    "from sklearn.metrics import confusion_matrix, accuracy_score, classification_report\n",
    "\n",
    "import tensorflow as tf\n",
    "from tensorflow.keras import Sequential\n",
    "from tensorflow.keras.layers import Conv2D, Flatten, Dense"
   ]
  },
  {
   "cell_type": "code",
   "execution_count": 2,
   "metadata": {},
   "outputs": [],
   "source": [
    "dataset = pd.read_csv('Churn_Modelling.csv')\n",
    "\n",
    "# Extract predictor variables and outcome variable\n",
    "cols = dataset.columns[3:13]\n",
    "X = pd.DataFrame(dataset.iloc[:, 3:13].values)\n",
    "y = dataset.iloc[:, 13].values\n",
    "\n",
    "# Turn category labels for gender to 0 and 1\n",
    "\n",
    "labelencoder_X_2 = LabelEncoder()\n",
    "X.loc[:, 2] = labelencoder_X_2.fit_transform(X.iloc[:, 2])\n",
    "\n",
    "# Change GEography categorical variable into 0, 1, and 2 \n",
    "labelencoder_X_1 = LabelEncoder()\n",
    "X.loc[:, 1] = labelencoder_X_1.fit_transform(X.iloc[:, 1])"
   ]
  },
  {
   "cell_type": "code",
   "execution_count": 3,
   "metadata": {},
   "outputs": [],
   "source": [
    "# Now do one hot encoding\n",
    "#onehotencoder = OneHotEncoder(categorical_features = [1])\n",
    "#X = onehotencoder.fit_transform(X).toarray()\n",
    "#X = X[:, 1:]\n",
    "\n",
    "columnTransformer = ColumnTransformer([('encoder', OneHotEncoder(), [1])], remainder = 'passthrough')\n",
    "X = np.array(columnTransformer.fit_transform(X), dtype = np.float64)\n",
    "X = X[:, 1:]"
   ]
  },
  {
   "cell_type": "code",
   "execution_count": 4,
   "metadata": {},
   "outputs": [],
   "source": [
    "# Create train-test split\n",
    "X_train, X_test, y_train, y_test = train_test_split(X, y, test_size = 0.2)\n",
    "\n",
    "# Scale the data -- one reason is to save on computing later\n",
    "ss = StandardScaler()\n",
    "X_train = ss.fit_transform(X_train)\n",
    "X_test = ss.transform(X_test)"
   ]
  },
  {
   "cell_type": "code",
   "execution_count": 5,
   "metadata": {},
   "outputs": [],
   "source": [
    "# Sequential() allows building an NN with a sequence of layers\n",
    "nn = Sequential()\n",
    "nn.add(Dense(11, activation = 'relu'))\n",
    "nn.add(Dense(7, activation = 'relu'))\n",
    "nn.add(Dense(1, activation = 'sigmoid'))\n",
    "\n",
    "# 'adam' for stochastic gradient descent\n",
    "nn.compile(optimizer = 'adam', loss = 'binary_crossentropy', metrics = ['accuracy'])"
   ]
  },
  {
   "cell_type": "code",
   "execution_count": 6,
   "metadata": {},
   "outputs": [
    {
     "name": "stdout",
     "output_type": "stream",
     "text": [
      "250/250 [==============================] - 0s 534us/step - loss: 0.6420 - accuracy: 0.6219\n",
      "Model: \"sequential\"\n",
      "_________________________________________________________________\n",
      "Layer (type)                 Output Shape              Param #   \n",
      "=================================================================\n",
      "dense (Dense)                (32, 11)                  132       \n",
      "_________________________________________________________________\n",
      "dense_1 (Dense)              (32, 7)                   84        \n",
      "_________________________________________________________________\n",
      "dense_2 (Dense)              (32, 1)                   8         \n",
      "=================================================================\n",
      "Total params: 224\n",
      "Trainable params: 224\n",
      "Non-trainable params: 0\n",
      "_________________________________________________________________\n"
     ]
    }
   ],
   "source": [
    "nn.fit(X_train, y_train)\n",
    "nn.summary()"
   ]
  },
  {
   "cell_type": "code",
   "execution_count": 7,
   "metadata": {},
   "outputs": [
    {
     "name": "stdout",
     "output_type": "stream",
     "text": [
      "0.8005\n",
      "[[1598    0]\n",
      " [ 399    3]]\n",
      "              precision    recall  f1-score   support\n",
      "\n",
      "           0       0.80      1.00      0.89      1598\n",
      "           1       1.00      0.01      0.01       402\n",
      "\n",
      "    accuracy                           0.80      2000\n",
      "   macro avg       0.90      0.50      0.45      2000\n",
      "weighted avg       0.84      0.80      0.71      2000\n",
      "\n"
     ]
    }
   ],
   "source": [
    "y_pred = nn.predict(X_test)\n",
    "y_pred = (y_pred > 0.5)\n",
    "\n",
    "print(accuracy_score(y_test,y_pred))\n",
    "print(confusion_matrix(y_test,y_pred))\n",
    "print(classification_report(y_test,y_pred))"
   ]
  },
  {
   "cell_type": "code",
   "execution_count": null,
   "metadata": {},
   "outputs": [],
   "source": []
  }
 ],
 "metadata": {
  "kernelspec": {
   "display_name": "Python 3",
   "language": "python",
   "name": "python3"
  },
  "language_info": {
   "codemirror_mode": {
    "name": "ipython",
    "version": 3
   },
   "file_extension": ".py",
   "mimetype": "text/x-python",
   "name": "python",
   "nbconvert_exporter": "python",
   "pygments_lexer": "ipython3",
   "version": "3.7.3"
  }
 },
 "nbformat": 4,
 "nbformat_minor": 4
}
