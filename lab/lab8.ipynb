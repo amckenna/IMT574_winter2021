{
 "cells": [
  {
   "cell_type": "code",
   "execution_count": 1,
   "metadata": {},
   "outputs": [],
   "source": [
    "import os, glob\n",
    "\n",
    "import numpy as np\n",
    "import pandas as pd\n",
    "\n",
    "from sklearn.model_selection import train_test_split\n",
    "from sklearn.linear_model import LogisticRegression\n",
    "from sklearn.neighbors import KNeighborsClassifier\n",
    "from sklearn.tree import DecisionTreeClassifier\n",
    "from sklearn.ensemble import RandomForestClassifier\n",
    "from sklearn.svm import SVC\n",
    "from sklearn.metrics import classification_report,confusion_matrix, accuracy_score\n",
    "from sklearn import preprocessing\n",
    "from sklearn import metrics"
   ]
  },
  {
   "cell_type": "markdown",
   "metadata": {},
   "source": [
    "## 8.1\n",
    "\n",
    "For this exercise, we will use data from the NIST’s AnthroKids dataset. The dataset comes from a 1977 anthropometric study of body measurements for children. Subjects in this sample are between the ages of 8 and 18 years old, selected at random from the much larger dataset of the original study.\n",
    "\n",
    "Use the SVM to see if we can use height, weight, and other features to predict the sex (F, M) of the child."
   ]
  },
  {
   "cell_type": "code",
   "execution_count": 2,
   "metadata": {},
   "outputs": [
    {
     "data": {
      "text/html": [
       "<div>\n",
       "<style scoped>\n",
       "    .dataframe tbody tr th:only-of-type {\n",
       "        vertical-align: middle;\n",
       "    }\n",
       "\n",
       "    .dataframe tbody tr th {\n",
       "        vertical-align: top;\n",
       "    }\n",
       "\n",
       "    .dataframe thead th {\n",
       "        text-align: right;\n",
       "    }\n",
       "</style>\n",
       "<table border=\"1\" class=\"dataframe\">\n",
       "  <thead>\n",
       "    <tr style=\"text-align: right;\">\n",
       "      <th></th>\n",
       "      <th>id</th>\n",
       "      <th>mass</th>\n",
       "      <th>height</th>\n",
       "      <th>waist</th>\n",
       "      <th>foot</th>\n",
       "      <th>sittingHeight</th>\n",
       "      <th>upperLegLength</th>\n",
       "      <th>kneeHeight</th>\n",
       "      <th>forearmLength</th>\n",
       "      <th>age</th>\n",
       "      <th>gender</th>\n",
       "      <th>handedness</th>\n",
       "      <th>birthOrder</th>\n",
       "    </tr>\n",
       "  </thead>\n",
       "  <tbody>\n",
       "    <tr>\n",
       "      <th>0</th>\n",
       "      <td>1</td>\n",
       "      <td>15.5</td>\n",
       "      <td>103.3</td>\n",
       "      <td>47.5</td>\n",
       "      <td>16.3</td>\n",
       "      <td>582.0</td>\n",
       "      <td>306.0</td>\n",
       "      <td>NaN</td>\n",
       "      <td>259.0</td>\n",
       "      <td>4.219</td>\n",
       "      <td>F</td>\n",
       "      <td>right</td>\n",
       "      <td>1.0</td>\n",
       "    </tr>\n",
       "    <tr>\n",
       "      <th>1</th>\n",
       "      <td>2</td>\n",
       "      <td>17.6</td>\n",
       "      <td>103.9</td>\n",
       "      <td>49.8</td>\n",
       "      <td>16.3</td>\n",
       "      <td>606.0</td>\n",
       "      <td>311.0</td>\n",
       "      <td>NaN</td>\n",
       "      <td>274.0</td>\n",
       "      <td>4.326</td>\n",
       "      <td>M</td>\n",
       "      <td>right</td>\n",
       "      <td>1.0</td>\n",
       "    </tr>\n",
       "    <tr>\n",
       "      <th>2</th>\n",
       "      <td>3</td>\n",
       "      <td>23.0</td>\n",
       "      <td>111.2</td>\n",
       "      <td>52.0</td>\n",
       "      <td>17.1</td>\n",
       "      <td>594.0</td>\n",
       "      <td>387.0</td>\n",
       "      <td>NaN</td>\n",
       "      <td>304.0</td>\n",
       "      <td>4.476</td>\n",
       "      <td>F</td>\n",
       "      <td>right</td>\n",
       "      <td>1.0</td>\n",
       "    </tr>\n",
       "    <tr>\n",
       "      <th>3</th>\n",
       "      <td>4</td>\n",
       "      <td>16.5</td>\n",
       "      <td>99.7</td>\n",
       "      <td>49.1</td>\n",
       "      <td>16.3</td>\n",
       "      <td>542.0</td>\n",
       "      <td>312.0</td>\n",
       "      <td>NaN</td>\n",
       "      <td>281.0</td>\n",
       "      <td>3.841</td>\n",
       "      <td>F</td>\n",
       "      <td>both</td>\n",
       "      <td>1.0</td>\n",
       "    </tr>\n",
       "    <tr>\n",
       "      <th>4</th>\n",
       "      <td>5</td>\n",
       "      <td>15.0</td>\n",
       "      <td>99.7</td>\n",
       "      <td>46.5</td>\n",
       "      <td>16.7</td>\n",
       "      <td>524.0</td>\n",
       "      <td>321.0</td>\n",
       "      <td>NaN</td>\n",
       "      <td>269.0</td>\n",
       "      <td>3.460</td>\n",
       "      <td>F</td>\n",
       "      <td>both</td>\n",
       "      <td>1.0</td>\n",
       "    </tr>\n",
       "  </tbody>\n",
       "</table>\n",
       "</div>"
      ],
      "text/plain": [
       "   id  mass  height  waist  foot  sittingHeight  upperLegLength  kneeHeight  \\\n",
       "0   1  15.5   103.3   47.5  16.3          582.0           306.0         NaN   \n",
       "1   2  17.6   103.9   49.8  16.3          606.0           311.0         NaN   \n",
       "2   3  23.0   111.2   52.0  17.1          594.0           387.0         NaN   \n",
       "3   4  16.5    99.7   49.1  16.3          542.0           312.0         NaN   \n",
       "4   5  15.0    99.7   46.5  16.7          524.0           321.0         NaN   \n",
       "\n",
       "   forearmLength    age gender handedness  birthOrder  \n",
       "0          259.0  4.219      F      right         1.0  \n",
       "1          274.0  4.326      M      right         1.0  \n",
       "2          304.0  4.476      F      right         1.0  \n",
       "3          281.0  3.841      F       both         1.0  \n",
       "4          269.0  3.460      F       both         1.0  "
      ]
     },
     "execution_count": 2,
     "metadata": {},
     "output_type": "execute_result"
    }
   ],
   "source": [
    "df = pd.read_csv(\"./data/anthrokids.csv\")\n",
    "df.head()"
   ]
  },
  {
   "cell_type": "code",
   "execution_count": 6,
   "metadata": {},
   "outputs": [
    {
     "data": {
      "text/plain": [
       "id                  0\n",
       "mass                4\n",
       "height              6\n",
       "waist              80\n",
       "foot               62\n",
       "sittingHeight      42\n",
       "upperLegLength     28\n",
       "kneeHeight        212\n",
       "forearmLength      69\n",
       "age                 2\n",
       "gender              0\n",
       "handedness        115\n",
       "birthOrder        165\n",
       "dtype: int64"
      ]
     },
     "execution_count": 6,
     "metadata": {},
     "output_type": "execute_result"
    }
   ],
   "source": [
    "df.isna().sum()"
   ]
  },
  {
   "cell_type": "code",
   "execution_count": 8,
   "metadata": {},
   "outputs": [
    {
     "data": {
      "text/plain": [
       "(3900, 13)"
      ]
     },
     "execution_count": 8,
     "metadata": {},
     "output_type": "execute_result"
    }
   ],
   "source": [
    "df.shape"
   ]
  },
  {
   "cell_type": "code",
   "execution_count": 10,
   "metadata": {},
   "outputs": [],
   "source": [
    "df = df.dropna(subset=[\"height\", \"mass\", \"waist\", \"foot\"])"
   ]
  },
  {
   "cell_type": "code",
   "execution_count": 11,
   "metadata": {},
   "outputs": [],
   "source": [
    "#Creating X and y\n",
    "X = df[[\"height\", \"mass\", \"waist\", \"foot\"]]\n",
    "y = df[['gender']]\n",
    "\n",
    "#Creating training and testing set\n",
    "X_train, X_test, y_train, y_test = train_test_split(X, y, test_size=0.3)"
   ]
  },
  {
   "cell_type": "code",
   "execution_count": 12,
   "metadata": {},
   "outputs": [
    {
     "name": "stdout",
     "output_type": "stream",
     "text": [
      "Accuracy: 0.660245183887916\n",
      "[[385 167]\n",
      " [221 369]]\n",
      "              precision    recall  f1-score   support\n",
      "\n",
      "           F       0.64      0.70      0.66       552\n",
      "           M       0.69      0.63      0.66       590\n",
      "\n",
      "    accuracy                           0.66      1142\n",
      "   macro avg       0.66      0.66      0.66      1142\n",
      "weighted avg       0.66      0.66      0.66      1142\n",
      "\n"
     ]
    }
   ],
   "source": [
    "#Building the SVC model and fitting the training data\n",
    "model = SVC(kernel='linear')\n",
    "model.fit(X_train,y_train.values.ravel())\n",
    "\n",
    "#Predicting on the test data\n",
    "predictions = model.predict(X_test)\n",
    "\n",
    "#Printing the accuracy\n",
    "print(\"Accuracy:\", accuracy_score(y_test, predictions))\n",
    "#Printing the confusion matrix\n",
    "print(confusion_matrix(y_test,predictions))\n",
    "#Printing the classification report\n",
    "print(classification_report(y_test,predictions))"
   ]
  },
  {
   "cell_type": "markdown",
   "metadata": {},
   "source": [
    "## 8.2\n",
    "Download hsbdemo2 dataset. Create a classifier using SVM from the reading, writing, mathematics, and science scores of the high-school students. Evaluate the classifier's accuracy in predicting which academic program the student will be joining. Report other evaluative criteria for assessing the goodness of the model built."
   ]
  },
  {
   "cell_type": "code",
   "execution_count": 13,
   "metadata": {},
   "outputs": [
    {
     "data": {
      "text/html": [
       "<div>\n",
       "<style scoped>\n",
       "    .dataframe tbody tr th:only-of-type {\n",
       "        vertical-align: middle;\n",
       "    }\n",
       "\n",
       "    .dataframe tbody tr th {\n",
       "        vertical-align: top;\n",
       "    }\n",
       "\n",
       "    .dataframe thead th {\n",
       "        text-align: right;\n",
       "    }\n",
       "</style>\n",
       "<table border=\"1\" class=\"dataframe\">\n",
       "  <thead>\n",
       "    <tr style=\"text-align: right;\">\n",
       "      <th></th>\n",
       "      <th>Unnamed: 0</th>\n",
       "      <th>id</th>\n",
       "      <th>female</th>\n",
       "      <th>ses</th>\n",
       "      <th>schtyp</th>\n",
       "      <th>prog</th>\n",
       "      <th>read</th>\n",
       "      <th>write</th>\n",
       "      <th>math</th>\n",
       "      <th>science</th>\n",
       "      <th>socst</th>\n",
       "      <th>honors</th>\n",
       "      <th>awards</th>\n",
       "      <th>cid</th>\n",
       "    </tr>\n",
       "  </thead>\n",
       "  <tbody>\n",
       "    <tr>\n",
       "      <th>0</th>\n",
       "      <td>11</td>\n",
       "      <td>1</td>\n",
       "      <td>female</td>\n",
       "      <td>low</td>\n",
       "      <td>public</td>\n",
       "      <td>vocation</td>\n",
       "      <td>34</td>\n",
       "      <td>44</td>\n",
       "      <td>40</td>\n",
       "      <td>39</td>\n",
       "      <td>41</td>\n",
       "      <td>not enrolled</td>\n",
       "      <td>0</td>\n",
       "      <td>1</td>\n",
       "    </tr>\n",
       "    <tr>\n",
       "      <th>1</th>\n",
       "      <td>9</td>\n",
       "      <td>2</td>\n",
       "      <td>female</td>\n",
       "      <td>middle</td>\n",
       "      <td>public</td>\n",
       "      <td>vocation</td>\n",
       "      <td>39</td>\n",
       "      <td>41</td>\n",
       "      <td>33</td>\n",
       "      <td>42</td>\n",
       "      <td>41</td>\n",
       "      <td>not enrolled</td>\n",
       "      <td>0</td>\n",
       "      <td>1</td>\n",
       "    </tr>\n",
       "    <tr>\n",
       "      <th>2</th>\n",
       "      <td>159</td>\n",
       "      <td>3</td>\n",
       "      <td>male</td>\n",
       "      <td>low</td>\n",
       "      <td>public</td>\n",
       "      <td>academic</td>\n",
       "      <td>63</td>\n",
       "      <td>65</td>\n",
       "      <td>48</td>\n",
       "      <td>63</td>\n",
       "      <td>56</td>\n",
       "      <td>enrolled</td>\n",
       "      <td>5</td>\n",
       "      <td>16</td>\n",
       "    </tr>\n",
       "    <tr>\n",
       "      <th>3</th>\n",
       "      <td>30</td>\n",
       "      <td>4</td>\n",
       "      <td>female</td>\n",
       "      <td>low</td>\n",
       "      <td>public</td>\n",
       "      <td>academic</td>\n",
       "      <td>44</td>\n",
       "      <td>50</td>\n",
       "      <td>41</td>\n",
       "      <td>39</td>\n",
       "      <td>51</td>\n",
       "      <td>not enrolled</td>\n",
       "      <td>1</td>\n",
       "      <td>3</td>\n",
       "    </tr>\n",
       "    <tr>\n",
       "      <th>4</th>\n",
       "      <td>33</td>\n",
       "      <td>5</td>\n",
       "      <td>male</td>\n",
       "      <td>low</td>\n",
       "      <td>public</td>\n",
       "      <td>academic</td>\n",
       "      <td>47</td>\n",
       "      <td>40</td>\n",
       "      <td>43</td>\n",
       "      <td>45</td>\n",
       "      <td>31</td>\n",
       "      <td>not enrolled</td>\n",
       "      <td>0</td>\n",
       "      <td>4</td>\n",
       "    </tr>\n",
       "  </tbody>\n",
       "</table>\n",
       "</div>"
      ],
      "text/plain": [
       "   Unnamed: 0  id  female     ses  schtyp      prog  read  write  math  \\\n",
       "0          11   1  female     low  public  vocation    34     44    40   \n",
       "1           9   2  female  middle  public  vocation    39     41    33   \n",
       "2         159   3    male     low  public  academic    63     65    48   \n",
       "3          30   4  female     low  public  academic    44     50    41   \n",
       "4          33   5    male     low  public  academic    47     40    43   \n",
       "\n",
       "   science  socst        honors  awards  cid  \n",
       "0       39     41  not enrolled       0    1  \n",
       "1       42     41  not enrolled       0    1  \n",
       "2       63     56      enrolled       5   16  \n",
       "3       39     51  not enrolled       1    3  \n",
       "4       45     31  not enrolled       0    4  "
      ]
     },
     "execution_count": 13,
     "metadata": {},
     "output_type": "execute_result"
    }
   ],
   "source": [
    "df = pd.read_csv(\"./data/hsbdemo2.csv\")\n",
    "df.head()"
   ]
  },
  {
   "cell_type": "code",
   "execution_count": 14,
   "metadata": {},
   "outputs": [
    {
     "data": {
      "text/plain": [
       "Unnamed: 0    0\n",
       "id            0\n",
       "female        0\n",
       "ses           0\n",
       "schtyp        0\n",
       "prog          0\n",
       "read          0\n",
       "write         0\n",
       "math          0\n",
       "science       0\n",
       "socst         0\n",
       "honors        0\n",
       "awards        0\n",
       "cid           0\n",
       "dtype: int64"
      ]
     },
     "execution_count": 14,
     "metadata": {},
     "output_type": "execute_result"
    }
   ],
   "source": [
    "df.isna().sum()"
   ]
  },
  {
   "cell_type": "code",
   "execution_count": 15,
   "metadata": {},
   "outputs": [
    {
     "data": {
      "text/plain": [
       "(155, 14)"
      ]
     },
     "execution_count": 15,
     "metadata": {},
     "output_type": "execute_result"
    }
   ],
   "source": [
    "df.shape"
   ]
  },
  {
   "cell_type": "code",
   "execution_count": null,
   "metadata": {},
   "outputs": [],
   "source": [
    "#Creating X and y\n",
    "X = df[[\"read\",\"write\",\"math\",\"science\"]]\n",
    "y = df[['gender']]\n",
    "\n",
    "#Creating training and testing set\n",
    "X_train, X_test, y_train, y_test = train_test_split(X, y, test_size=0.3)"
   ]
  }
 ],
 "metadata": {
  "kernelspec": {
   "display_name": "Python 3",
   "language": "python",
   "name": "python3"
  },
  "language_info": {
   "codemirror_mode": {
    "name": "ipython",
    "version": 3
   },
   "file_extension": ".py",
   "mimetype": "text/x-python",
   "name": "python",
   "nbconvert_exporter": "python",
   "pygments_lexer": "ipython3",
   "version": "3.7.3"
  }
 },
 "nbformat": 4,
 "nbformat_minor": 4
}
