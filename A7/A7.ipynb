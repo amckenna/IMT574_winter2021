{
 "cells": [
  {
   "cell_type": "markdown",
   "metadata": {},
   "source": [
    "Q2. Under the life-cycle savings hypothesis as developed by Franco Modigliani, the savings ratio (aggregate personal savings divided by disposable income) is explained by per-capita disposable income, the percentage rate of change in per-capita disposable income, and two demographic variables: the percentage of population less than 15 years old and the percentage of the population over 75 years old. The data are averaged over the decade 1960–1970 to remove the business cycle or other short-term fluctuations.\n",
    "\n",
    "The following data were obtained from Belsley, Kuh and Welsch (1980). They in turn obtained the data from Sterling (1977). You can download it from here.\n",
    "\n",
    "The data set contains 50 observations with five variables.\n",
    "- I.    Sr: numeric, aggregate personal savings\n",
    "- II.    pop15: numeric, % of population under 15\n",
    "- III.    pop75: numeric, % of population over 75\n",
    "- IV.    dpi: numeric, real per-capita disposable income\n",
    "- V.    ddpi: numeric, % growth rate of dpi\n",
    "\n",
    "Use EM for clustering 'similar' countries. Report how many groups you got and why you chose that number with the help of AIC and BIC. [8 points]"
   ]
  },
  {
   "cell_type": "code",
   "execution_count": 5,
   "metadata": {},
   "outputs": [],
   "source": [
    "import os, glob\n",
    "\n",
    "import numpy as np\n",
    "import pandas as pd\n",
    "\n",
    "from sklearn.mixture import GaussianMixture\n",
    "from sklearn.cluster import KMeans"
   ]
  },
  {
   "cell_type": "code",
   "execution_count": 4,
   "metadata": {},
   "outputs": [
    {
     "data": {
      "text/html": [
       "<div>\n",
       "<style scoped>\n",
       "    .dataframe tbody tr th:only-of-type {\n",
       "        vertical-align: middle;\n",
       "    }\n",
       "\n",
       "    .dataframe tbody tr th {\n",
       "        vertical-align: top;\n",
       "    }\n",
       "\n",
       "    .dataframe thead th {\n",
       "        text-align: right;\n",
       "    }\n",
       "</style>\n",
       "<table border=\"1\" class=\"dataframe\">\n",
       "  <thead>\n",
       "    <tr style=\"text-align: right;\">\n",
       "      <th></th>\n",
       "      <th>Contry</th>\n",
       "      <th>sr</th>\n",
       "      <th>pop15</th>\n",
       "      <th>pop75</th>\n",
       "      <th>dpi</th>\n",
       "      <th>ddpi</th>\n",
       "    </tr>\n",
       "  </thead>\n",
       "  <tbody>\n",
       "    <tr>\n",
       "      <th>0</th>\n",
       "      <td>Australia</td>\n",
       "      <td>11.43</td>\n",
       "      <td>29.35</td>\n",
       "      <td>2.87</td>\n",
       "      <td>2329.68</td>\n",
       "      <td>2.87</td>\n",
       "    </tr>\n",
       "    <tr>\n",
       "      <th>1</th>\n",
       "      <td>Austria</td>\n",
       "      <td>12.07</td>\n",
       "      <td>23.32</td>\n",
       "      <td>4.41</td>\n",
       "      <td>1507.99</td>\n",
       "      <td>3.93</td>\n",
       "    </tr>\n",
       "    <tr>\n",
       "      <th>2</th>\n",
       "      <td>Belgium</td>\n",
       "      <td>13.17</td>\n",
       "      <td>23.80</td>\n",
       "      <td>4.43</td>\n",
       "      <td>2108.47</td>\n",
       "      <td>3.82</td>\n",
       "    </tr>\n",
       "    <tr>\n",
       "      <th>3</th>\n",
       "      <td>Bolivia</td>\n",
       "      <td>5.75</td>\n",
       "      <td>41.89</td>\n",
       "      <td>1.67</td>\n",
       "      <td>189.13</td>\n",
       "      <td>0.22</td>\n",
       "    </tr>\n",
       "    <tr>\n",
       "      <th>4</th>\n",
       "      <td>Brazil</td>\n",
       "      <td>12.88</td>\n",
       "      <td>42.19</td>\n",
       "      <td>0.83</td>\n",
       "      <td>728.47</td>\n",
       "      <td>4.56</td>\n",
       "    </tr>\n",
       "  </tbody>\n",
       "</table>\n",
       "</div>"
      ],
      "text/plain": [
       "      Contry     sr  pop15  pop75      dpi  ddpi\n",
       "0  Australia  11.43  29.35   2.87  2329.68  2.87\n",
       "1    Austria  12.07  23.32   4.41  1507.99  3.93\n",
       "2    Belgium  13.17  23.80   4.43  2108.47  3.82\n",
       "3    Bolivia   5.75  41.89   1.67   189.13  0.22\n",
       "4     Brazil  12.88  42.19   0.83   728.47  4.56"
      ]
     },
     "execution_count": 4,
     "metadata": {},
     "output_type": "execute_result"
    }
   ],
   "source": [
    "df = pd.read_csv(\"lifecyclesaving.csv\")\n",
    "df.head()"
   ]
  },
  {
   "cell_type": "code",
   "execution_count": 35,
   "metadata": {},
   "outputs": [
    {
     "data": {
      "text/plain": [
       "(50, 6)"
      ]
     },
     "execution_count": 35,
     "metadata": {},
     "output_type": "execute_result"
    }
   ],
   "source": [
    "df.shape"
   ]
  },
  {
   "cell_type": "code",
   "execution_count": 7,
   "metadata": {},
   "outputs": [
    {
     "data": {
      "text/html": [
       "<div>\n",
       "<style scoped>\n",
       "    .dataframe tbody tr th:only-of-type {\n",
       "        vertical-align: middle;\n",
       "    }\n",
       "\n",
       "    .dataframe tbody tr th {\n",
       "        vertical-align: top;\n",
       "    }\n",
       "\n",
       "    .dataframe thead th {\n",
       "        text-align: right;\n",
       "    }\n",
       "</style>\n",
       "<table border=\"1\" class=\"dataframe\">\n",
       "  <thead>\n",
       "    <tr style=\"text-align: right;\">\n",
       "      <th></th>\n",
       "      <th>sr</th>\n",
       "      <th>pop15</th>\n",
       "      <th>pop75</th>\n",
       "      <th>dpi</th>\n",
       "      <th>ddpi</th>\n",
       "    </tr>\n",
       "  </thead>\n",
       "  <tbody>\n",
       "    <tr>\n",
       "      <th>count</th>\n",
       "      <td>50.000000</td>\n",
       "      <td>50.000000</td>\n",
       "      <td>50.000000</td>\n",
       "      <td>50.000000</td>\n",
       "      <td>50.000000</td>\n",
       "    </tr>\n",
       "    <tr>\n",
       "      <th>mean</th>\n",
       "      <td>9.671000</td>\n",
       "      <td>35.089600</td>\n",
       "      <td>2.293000</td>\n",
       "      <td>1106.758400</td>\n",
       "      <td>3.757600</td>\n",
       "    </tr>\n",
       "    <tr>\n",
       "      <th>std</th>\n",
       "      <td>4.480407</td>\n",
       "      <td>9.151727</td>\n",
       "      <td>1.290771</td>\n",
       "      <td>990.868889</td>\n",
       "      <td>2.869871</td>\n",
       "    </tr>\n",
       "    <tr>\n",
       "      <th>min</th>\n",
       "      <td>0.600000</td>\n",
       "      <td>21.440000</td>\n",
       "      <td>0.560000</td>\n",
       "      <td>88.940000</td>\n",
       "      <td>0.220000</td>\n",
       "    </tr>\n",
       "    <tr>\n",
       "      <th>25%</th>\n",
       "      <td>6.970000</td>\n",
       "      <td>26.215000</td>\n",
       "      <td>1.125000</td>\n",
       "      <td>288.207500</td>\n",
       "      <td>2.002500</td>\n",
       "    </tr>\n",
       "    <tr>\n",
       "      <th>50%</th>\n",
       "      <td>10.510000</td>\n",
       "      <td>32.575000</td>\n",
       "      <td>2.175000</td>\n",
       "      <td>695.665000</td>\n",
       "      <td>3.000000</td>\n",
       "    </tr>\n",
       "    <tr>\n",
       "      <th>75%</th>\n",
       "      <td>12.617500</td>\n",
       "      <td>44.065000</td>\n",
       "      <td>3.325000</td>\n",
       "      <td>1795.622500</td>\n",
       "      <td>4.477500</td>\n",
       "    </tr>\n",
       "    <tr>\n",
       "      <th>max</th>\n",
       "      <td>21.100000</td>\n",
       "      <td>47.640000</td>\n",
       "      <td>4.700000</td>\n",
       "      <td>4001.890000</td>\n",
       "      <td>16.710000</td>\n",
       "    </tr>\n",
       "  </tbody>\n",
       "</table>\n",
       "</div>"
      ],
      "text/plain": [
       "              sr      pop15      pop75          dpi       ddpi\n",
       "count  50.000000  50.000000  50.000000    50.000000  50.000000\n",
       "mean    9.671000  35.089600   2.293000  1106.758400   3.757600\n",
       "std     4.480407   9.151727   1.290771   990.868889   2.869871\n",
       "min     0.600000  21.440000   0.560000    88.940000   0.220000\n",
       "25%     6.970000  26.215000   1.125000   288.207500   2.002500\n",
       "50%    10.510000  32.575000   2.175000   695.665000   3.000000\n",
       "75%    12.617500  44.065000   3.325000  1795.622500   4.477500\n",
       "max    21.100000  47.640000   4.700000  4001.890000  16.710000"
      ]
     },
     "execution_count": 7,
     "metadata": {},
     "output_type": "execute_result"
    }
   ],
   "source": [
    "df.describe()"
   ]
  },
  {
   "cell_type": "code",
   "execution_count": 21,
   "metadata": {},
   "outputs": [
    {
     "data": {
      "text/plain": [
       "GaussianMixture(init_params='random', max_iter=50, n_components=3)"
      ]
     },
     "execution_count": 21,
     "metadata": {},
     "output_type": "execute_result"
    }
   ],
   "source": [
    "model = GaussianMixture(n_components=3, init_params='random', max_iter=50)\n",
    "model.fit(df.iloc[:, 1:6])"
   ]
  },
  {
   "cell_type": "code",
   "execution_count": 22,
   "metadata": {},
   "outputs": [
    {
     "name": "stdout",
     "output_type": "stream",
     "text": [
      "[0 0 0 2 2 0 2 2 2 2 0 2 1 0 0 1 2 2 0 2 0 0 1 2 0 1 0 1 0 2 2 2 2 2 1 1 1\n",
      " 1 0 0 2 2 0 0 2 2 1 1 1 2]\n"
     ]
    }
   ],
   "source": [
    "# Let's extract cluster labels\n",
    "yhat = model.predict(df.iloc[:, 1:6])\n",
    "print(yhat)"
   ]
  },
  {
   "cell_type": "code",
   "execution_count": 23,
   "metadata": {},
   "outputs": [
    {
     "name": "stdout",
     "output_type": "stream",
     "text": [
      "1663.686002909732\n",
      "1782.231429246277\n"
     ]
    }
   ],
   "source": [
    "print(model.aic(df.iloc[:, 1:6]))\n",
    "print(model.bic(df.iloc[:, 1:6]))"
   ]
  },
  {
   "cell_type": "code",
   "execution_count": 36,
   "metadata": {},
   "outputs": [
    {
     "name": "stdout",
     "output_type": "stream",
     "text": [
      "0 epoch: 2 clusters\n",
      "[0 0 0 1 1 0 1 1 1 1 0 1 0 0 0 1 1 1 0 1 0 0 1 1 0 1 0 1 0 1 1 1 1 1 1 0 0\n",
      " 1 0 0 1 1 0 0 1 1 1 0 1 1]\n",
      "AIC 1717.9039904540246\n",
      "BIC 1796.2969336765786 \n",
      "\n",
      "1 epoch: 2 clusters\n",
      "[1 0 0 0 0 1 0 0 0 0 0 0 0 0 1 1 0 0 0 0 0 0 0 0 1 1 1 0 0 0 0 0 0 0 1 0 1\n",
      " 1 1 1 0 0 0 1 0 0 1 1 1 0]\n",
      "AIC 1739.059306749151\n",
      "BIC 1817.452249971705 \n",
      "\n",
      "2 epoch: 2 clusters\n",
      "[1 1 1 0 0 1 0 0 0 0 1 0 1 1 1 0 0 0 1 0 1 1 0 0 1 0 1 0 1 0 0 0 0 0 0 1 1\n",
      " 0 1 1 0 0 1 1 0 0 0 1 0 0]\n",
      "AIC 1717.9071649673397\n",
      "BIC 1796.3001081898938 \n",
      "\n",
      "***********************************************************************\n",
      "\n",
      "0 epoch: 3 clusters\n",
      "[1 0 0 0 0 1 0 0 2 0 1 0 0 0 1 2 2 0 0 1 0 1 0 2 1 2 1 0 0 0 0 2 1 0 2 2 1\n",
      " 2 1 1 2 0 0 1 1 0 2 2 2 2]\n",
      "AIC 1725.8412375936273\n",
      "BIC 1844.3866639301723 \n",
      "\n",
      "1 epoch: 3 clusters\n",
      "[1 2 2 2 0 1 0 0 0 0 0 0 0 2 0 1 0 0 0 2 2 2 2 0 0 1 0 2 2 0 0 0 0 0 1 2 2\n",
      " 2 0 0 0 0 2 1 0 0 1 2 1 0]\n",
      "AIC 1710.737940507035\n",
      "BIC 1829.28336684358 \n",
      "\n",
      "2 epoch: 3 clusters\n",
      "[2 1 1 0 1 2 0 1 0 1 1 0 1 1 2 0 0 0 2 2 1 1 1 0 2 0 2 1 1 0 0 0 1 1 0 2 2\n",
      " 0 2 2 0 0 1 2 1 1 0 2 0 0]\n",
      "AIC 1717.3789526973965\n",
      "BIC 1835.9243790339415 \n",
      "\n",
      "***********************************************************************\n",
      "\n",
      "0 epoch: 4 clusters\n",
      "[1 1 1 0 3 1 0 0 0 0 1 0 1 1 1 2 0 0 3 0 1 1 3 0 1 2 1 3 1 0 0 0 0 0 2 1 2\n",
      " 2 1 1 0 0 1 1 3 3 2 1 2 0]\n",
      "AIC 1659.8958545406067\n",
      "BIC 1818.5937639911429 \n",
      "\n",
      "1 epoch: 4 clusters\n",
      "[1 2 2 2 3 1 3 3 3 3 2 3 3 2 1 0 3 3 2 0 2 1 3 0 1 0 2 1 2 3 3 0 2 3 0 0 0\n",
      " 0 2 1 3 3 2 1 2 3 0 0 0 3]\n",
      "AIC 1695.0338865971307\n",
      "BIC 1853.7317960476669 \n",
      "\n",
      "2 epoch: 4 clusters\n",
      "[3 3 3 1 1 3 1 1 1 1 3 1 3 3 3 0 1 1 3 1 3 3 3 1 3 0 3 0 3 1 1 1 1 1 2 0 2\n",
      " 2 3 3 1 1 3 3 0 1 2 0 2 1]\n",
      "AIC 1602.106438020601\n",
      "BIC 1760.8043474711371 \n",
      "\n",
      "***********************************************************************\n",
      "\n",
      "0 epoch: 5 clusters\n",
      "[1 3 3 3 4 1 4 4 4 0 3 4 0 3 1 2 4 4 1 3 3 3 4 0 1 2 3 0 0 4 4 3 4 4 2 3 2\n",
      " 2 1 1 4 4 0 1 0 4 2 1 2 4]\n",
      "AIC 1707.5148183192712\n",
      "BIC 1906.3652108837982 \n",
      "\n",
      "1 epoch: 5 clusters\n",
      "[1 2 2 3 3 1 3 3 3 3 2 3 2 0 2 2 3 3 4 3 0 1 4 3 2 2 1 2 0 3 3 3 3 3 2 4 4\n",
      " 2 1 2 3 3 4 1 3 3 0 4 0 3]\n",
      "AIC 1594.316544864616\n",
      "BIC 1793.1669374291432 \n",
      "\n",
      "2 epoch: 5 clusters\n",
      "[2 1 1 0 4 2 4 4 4 4 1 4 1 1 1 3 4 4 4 0 1 0 0 4 2 3 1 0 1 4 4 4 4 4 3 0 3\n",
      " 3 2 1 4 4 1 2 4 4 3 2 3 4]\n",
      "AIC 1646.6845925008079\n",
      "BIC 1845.5349850653351 \n",
      "\n",
      "***********************************************************************\n",
      "\n"
     ]
    }
   ],
   "source": [
    "for n in range(2,6):\n",
    "    for i in range(3):\n",
    "        model = GaussianMixture(n_components=n, init_params='random', max_iter=50)\n",
    "        model.fit(df.iloc[:, 1:6])\n",
    "        \n",
    "        yhat = model.predict(df.iloc[:, 1:6])\n",
    "        print(i,\"epoch:\", n, \"clusters\")\n",
    "        print(yhat)\n",
    "        print(\"AIC\", model.aic(df.iloc[:, 1:6]))\n",
    "        print(\"BIC\", model.bic(df.iloc[:, 1:6]), \"\\n\")\n",
    "    print(\"***********************************************************************\\n\")"
   ]
  },
  {
   "cell_type": "code",
   "execution_count": null,
   "metadata": {},
   "outputs": [],
   "source": []
  }
 ],
 "metadata": {
  "kernelspec": {
   "display_name": "Python 3",
   "language": "python",
   "name": "python3"
  },
  "language_info": {
   "codemirror_mode": {
    "name": "ipython",
    "version": 3
   },
   "file_extension": ".py",
   "mimetype": "text/x-python",
   "name": "python",
   "nbconvert_exporter": "python",
   "pygments_lexer": "ipython3",
   "version": "3.7.3"
  }
 },
 "nbformat": 4,
 "nbformat_minor": 4
}
